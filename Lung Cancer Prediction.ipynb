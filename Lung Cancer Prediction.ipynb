{
 "cells": [
  {
   "cell_type": "code",
   "execution_count": 89,
   "id": "6484bf63",
   "metadata": {
    "_cell_guid": "b1076dfc-b9ad-4769-8c92-a6c4dae69d19",
    "_uuid": "8f2839f25d086af736a60e9eeb907d3b93b6e0e5",
    "execution": {
     "iopub.execute_input": "2021-10-02T11:31:10.881568Z",
     "iopub.status.busy": "2021-10-02T11:31:10.880862Z",
     "iopub.status.idle": "2021-10-02T11:31:10.902096Z",
     "shell.execute_reply": "2021-10-02T11:31:10.901385Z",
     "shell.execute_reply.started": "2021-10-02T11:29:06.460114Z"
    },
    "papermill": {
     "duration": 0.096136,
     "end_time": "2021-10-02T11:31:10.902269",
     "exception": false,
     "start_time": "2021-10-02T11:31:10.806133",
     "status": "completed"
    },
    "tags": [],
    "pycharm": {
     "name": "#%%\n"
    }
   },
   "outputs": [],
   "source": [
    "import numpy as np # linear algebra\n",
    "import pandas as pd # data processing, CSV file I/O (e.g. pd.read_csv)\n",
    "\n",
    "# Input data files are available in the read-only \"../input/\" directory\n",
    "# For example, running this (by clicking run or pressing Shift+Enter) will list all files under the input directory\n"
   ]
  },
  {
   "cell_type": "markdown",
   "id": "94bca19b",
   "metadata": {
    "papermill": {
     "duration": 0.061424,
     "end_time": "2021-10-02T11:31:11.027444",
     "exception": false,
     "start_time": "2021-10-02T11:31:10.966020",
     "status": "completed"
    },
    "tags": [],
    "pycharm": {
     "name": "#%% md\n"
    }
   },
   "source": [
    "# **Getting Started** \n",
    "\n",
    "**Title : Lung Cancer Prediction**\n",
    "  \n",
    "  **Lung Cancer Status :**\n",
    "\n",
    "  0 -- > Yes \n",
    "\n",
    "  1 -- > NO\n"
   ]
  },
  {
   "cell_type": "markdown",
   "id": "a68b21a1",
   "metadata": {
    "papermill": {
     "duration": 0.069029,
     "end_time": "2021-10-02T11:31:11.164974",
     "exception": false,
     "start_time": "2021-10-02T11:31:11.095945",
     "status": "completed"
    },
    "tags": [],
    "pycharm": {
     "name": "#%% md\n"
    }
   },
   "source": [
    "### **DataFraming**\n",
    "\n",
    "**Read .csv file into pandas**"
   ]
  },
  {
   "cell_type": "code",
   "execution_count": 2,
   "id": "878078a5",
   "metadata": {
    "execution": {
     "iopub.execute_input": "2021-10-02T11:31:11.295106Z",
     "iopub.status.busy": "2021-10-02T11:31:11.294401Z",
     "iopub.status.idle": "2021-10-02T11:31:11.327146Z",
     "shell.execute_reply": "2021-10-02T11:31:11.327659Z",
     "shell.execute_reply.started": "2021-10-02T11:29:06.473569Z"
    },
    "papermill": {
     "duration": 0.099575,
     "end_time": "2021-10-02T11:31:11.327845",
     "exception": false,
     "start_time": "2021-10-02T11:31:11.228270",
     "status": "completed"
    },
    "scrolled": false,
    "tags": [],
    "pycharm": {
     "name": "#%%\n"
    }
   },
   "outputs": [
    {
     "data": {
      "text/html": [
       "<div>\n",
       "<style scoped>\n",
       "    .dataframe tbody tr th:only-of-type {\n",
       "        vertical-align: middle;\n",
       "    }\n",
       "\n",
       "    .dataframe tbody tr th {\n",
       "        vertical-align: top;\n",
       "    }\n",
       "\n",
       "    .dataframe thead th {\n",
       "        text-align: right;\n",
       "    }\n",
       "</style>\n",
       "<table border=\"1\" class=\"dataframe\">\n",
       "  <thead>\n",
       "    <tr style=\"text-align: right;\">\n",
       "      <th></th>\n",
       "      <th>GENDER</th>\n",
       "      <th>AGE</th>\n",
       "      <th>SMOKING</th>\n",
       "      <th>YELLOW_FINGERS</th>\n",
       "      <th>ANXIETY</th>\n",
       "      <th>PEER_PRESSURE</th>\n",
       "      <th>CHRONIC DISEASE</th>\n",
       "      <th>FATIGUE</th>\n",
       "      <th>ALLERGY</th>\n",
       "      <th>WHEEZING</th>\n",
       "      <th>ALCOHOL CONSUMING</th>\n",
       "      <th>COUGHING</th>\n",
       "      <th>SHORTNESS OF BREATH</th>\n",
       "      <th>SWALLOWING DIFFICULTY</th>\n",
       "      <th>CHEST PAIN</th>\n",
       "      <th>LUNG_CANCER</th>\n",
       "    </tr>\n",
       "  </thead>\n",
       "  <tbody>\n",
       "    <tr>\n",
       "      <th>0</th>\n",
       "      <td>M</td>\n",
       "      <td>69</td>\n",
       "      <td>1</td>\n",
       "      <td>2</td>\n",
       "      <td>2</td>\n",
       "      <td>1</td>\n",
       "      <td>1</td>\n",
       "      <td>2</td>\n",
       "      <td>1</td>\n",
       "      <td>2</td>\n",
       "      <td>2</td>\n",
       "      <td>2</td>\n",
       "      <td>2</td>\n",
       "      <td>2</td>\n",
       "      <td>2</td>\n",
       "      <td>YES</td>\n",
       "    </tr>\n",
       "    <tr>\n",
       "      <th>1</th>\n",
       "      <td>M</td>\n",
       "      <td>74</td>\n",
       "      <td>2</td>\n",
       "      <td>1</td>\n",
       "      <td>1</td>\n",
       "      <td>1</td>\n",
       "      <td>2</td>\n",
       "      <td>2</td>\n",
       "      <td>2</td>\n",
       "      <td>1</td>\n",
       "      <td>1</td>\n",
       "      <td>1</td>\n",
       "      <td>2</td>\n",
       "      <td>2</td>\n",
       "      <td>2</td>\n",
       "      <td>YES</td>\n",
       "    </tr>\n",
       "    <tr>\n",
       "      <th>2</th>\n",
       "      <td>F</td>\n",
       "      <td>59</td>\n",
       "      <td>1</td>\n",
       "      <td>1</td>\n",
       "      <td>1</td>\n",
       "      <td>2</td>\n",
       "      <td>1</td>\n",
       "      <td>2</td>\n",
       "      <td>1</td>\n",
       "      <td>2</td>\n",
       "      <td>1</td>\n",
       "      <td>2</td>\n",
       "      <td>2</td>\n",
       "      <td>1</td>\n",
       "      <td>2</td>\n",
       "      <td>NO</td>\n",
       "    </tr>\n",
       "    <tr>\n",
       "      <th>3</th>\n",
       "      <td>M</td>\n",
       "      <td>63</td>\n",
       "      <td>2</td>\n",
       "      <td>2</td>\n",
       "      <td>2</td>\n",
       "      <td>1</td>\n",
       "      <td>1</td>\n",
       "      <td>1</td>\n",
       "      <td>1</td>\n",
       "      <td>1</td>\n",
       "      <td>2</td>\n",
       "      <td>1</td>\n",
       "      <td>1</td>\n",
       "      <td>2</td>\n",
       "      <td>2</td>\n",
       "      <td>NO</td>\n",
       "    </tr>\n",
       "    <tr>\n",
       "      <th>4</th>\n",
       "      <td>F</td>\n",
       "      <td>63</td>\n",
       "      <td>1</td>\n",
       "      <td>2</td>\n",
       "      <td>1</td>\n",
       "      <td>1</td>\n",
       "      <td>1</td>\n",
       "      <td>1</td>\n",
       "      <td>1</td>\n",
       "      <td>2</td>\n",
       "      <td>1</td>\n",
       "      <td>2</td>\n",
       "      <td>2</td>\n",
       "      <td>1</td>\n",
       "      <td>1</td>\n",
       "      <td>NO</td>\n",
       "    </tr>\n",
       "  </tbody>\n",
       "</table>\n",
       "</div>"
      ],
      "text/plain": [
       "  GENDER  AGE  SMOKING  YELLOW_FINGERS  ANXIETY  PEER_PRESSURE  \\\n",
       "0      M   69        1               2        2              1   \n",
       "1      M   74        2               1        1              1   \n",
       "2      F   59        1               1        1              2   \n",
       "3      M   63        2               2        2              1   \n",
       "4      F   63        1               2        1              1   \n",
       "\n",
       "   CHRONIC DISEASE  FATIGUE   ALLERGY   WHEEZING  ALCOHOL CONSUMING  COUGHING  \\\n",
       "0                1         2         1         2                  2         2   \n",
       "1                2         2         2         1                  1         1   \n",
       "2                1         2         1         2                  1         2   \n",
       "3                1         1         1         1                  2         1   \n",
       "4                1         1         1         2                  1         2   \n",
       "\n",
       "   SHORTNESS OF BREATH  SWALLOWING DIFFICULTY  CHEST PAIN LUNG_CANCER  \n",
       "0                    2                      2           2         YES  \n",
       "1                    2                      2           2         YES  \n",
       "2                    2                      1           2          NO  \n",
       "3                    1                      2           2          NO  \n",
       "4                    2                      1           1          NO  "
      ]
     },
     "execution_count": 2,
     "metadata": {},
     "output_type": "execute_result"
    }
   ],
   "source": [
    "data  = pd.read_csv('D:\\\\DC Universe\\\\Ucsc\\\\Third Year\\\\SCS 3201 Machine Learning\\\\CCPP\\\\Csv Files\\\\survey lung cancer.csv')\n",
    "data.head()"
   ]
  },
  {
   "cell_type": "markdown",
   "id": "13039c27",
   "metadata": {
    "papermill": {
     "duration": 0.070397,
     "end_time": "2021-10-02T11:31:11.472150",
     "exception": false,
     "start_time": "2021-10-02T11:31:11.401753",
     "status": "completed"
    },
    "tags": [],
    "pycharm": {
     "name": "#%% md\n"
    }
   },
   "source": [
    "## **Exploratory data analysis**"
   ]
  },
  {
   "cell_type": "code",
   "execution_count": 3,
   "id": "8f0fcdbc",
   "metadata": {
    "execution": {
     "iopub.execute_input": "2021-10-02T11:31:11.603547Z",
     "iopub.status.busy": "2021-10-02T11:31:11.602851Z",
     "iopub.status.idle": "2021-10-02T11:31:11.609250Z",
     "shell.execute_reply": "2021-10-02T11:31:11.608636Z",
     "shell.execute_reply.started": "2021-10-02T11:29:06.500283Z"
    },
    "papermill": {
     "duration": 0.071973,
     "end_time": "2021-10-02T11:31:11.609402",
     "exception": false,
     "start_time": "2021-10-02T11:31:11.537429",
     "status": "completed"
    },
    "tags": [],
    "pycharm": {
     "name": "#%%\n"
    }
   },
   "outputs": [
    {
     "name": "stdout",
     "output_type": "stream",
     "text": [
      "(309, 16)\n",
      "GENDER                   object\n",
      "AGE                       int64\n",
      "SMOKING                   int64\n",
      "YELLOW_FINGERS            int64\n",
      "ANXIETY                   int64\n",
      "PEER_PRESSURE             int64\n",
      "CHRONIC DISEASE           int64\n",
      "FATIGUE                   int64\n",
      "ALLERGY                   int64\n",
      "WHEEZING                  int64\n",
      "ALCOHOL CONSUMING         int64\n",
      "COUGHING                  int64\n",
      "SHORTNESS OF BREATH       int64\n",
      "SWALLOWING DIFFICULTY     int64\n",
      "CHEST PAIN                int64\n",
      "LUNG_CANCER              object\n",
      "dtype: object\n"
     ]
    }
   ],
   "source": [
    "#Shape of data \n",
    "print(data.shape)\n",
    "#dtypes of data \n",
    "print(data.dtypes)"
   ]
  },
  {
   "cell_type": "code",
   "execution_count": 4,
   "id": "16813a45",
   "metadata": {
    "execution": {
     "iopub.execute_input": "2021-10-02T11:31:11.763365Z",
     "iopub.status.busy": "2021-10-02T11:31:11.754982Z",
     "iopub.status.idle": "2021-10-02T11:31:11.768671Z",
     "shell.execute_reply": "2021-10-02T11:31:11.768062Z",
     "shell.execute_reply.started": "2021-10-02T11:29:06.507768Z"
    },
    "papermill": {
     "duration": 0.094191,
     "end_time": "2021-10-02T11:31:11.768819",
     "exception": false,
     "start_time": "2021-10-02T11:31:11.674628",
     "status": "completed"
    },
    "tags": [],
    "pycharm": {
     "name": "#%%\n"
    }
   },
   "outputs": [
    {
     "name": "stdout",
     "output_type": "stream",
     "text": [
      "<class 'pandas.core.frame.DataFrame'>\n",
      "RangeIndex: 309 entries, 0 to 308\n",
      "Data columns (total 16 columns):\n",
      " #   Column                 Non-Null Count  Dtype \n",
      "---  ------                 --------------  ----- \n",
      " 0   GENDER                 309 non-null    object\n",
      " 1   AGE                    309 non-null    int64 \n",
      " 2   SMOKING                309 non-null    int64 \n",
      " 3   YELLOW_FINGERS         309 non-null    int64 \n",
      " 4   ANXIETY                309 non-null    int64 \n",
      " 5   PEER_PRESSURE          309 non-null    int64 \n",
      " 6   CHRONIC DISEASE        309 non-null    int64 \n",
      " 7   FATIGUE                309 non-null    int64 \n",
      " 8   ALLERGY                309 non-null    int64 \n",
      " 9   WHEEZING               309 non-null    int64 \n",
      " 10  ALCOHOL CONSUMING      309 non-null    int64 \n",
      " 11  COUGHING               309 non-null    int64 \n",
      " 12  SHORTNESS OF BREATH    309 non-null    int64 \n",
      " 13  SWALLOWING DIFFICULTY  309 non-null    int64 \n",
      " 14  CHEST PAIN             309 non-null    int64 \n",
      " 15  LUNG_CANCER            309 non-null    object\n",
      "dtypes: int64(14), object(2)\n",
      "memory usage: 38.8+ KB\n"
     ]
    }
   ],
   "source": [
    "# Info of data\n",
    "data.info()"
   ]
  },
  {
   "cell_type": "code",
   "execution_count": 5,
   "id": "6e6157b2",
   "metadata": {
    "execution": {
     "iopub.execute_input": "2021-10-02T11:31:11.905505Z",
     "iopub.status.busy": "2021-10-02T11:31:11.904872Z",
     "iopub.status.idle": "2021-10-02T11:31:11.907346Z",
     "shell.execute_reply": "2021-10-02T11:31:11.907820Z",
     "shell.execute_reply.started": "2021-10-02T11:29:06.526219Z"
    },
    "papermill": {
     "duration": 0.072553,
     "end_time": "2021-10-02T11:31:11.908018",
     "exception": false,
     "start_time": "2021-10-02T11:31:11.835465",
     "status": "completed"
    },
    "tags": [],
    "pycharm": {
     "name": "#%%\n"
    }
   },
   "outputs": [
    {
     "data": {
      "text/plain": [
       "GENDER                   0\n",
       "AGE                      0\n",
       "SMOKING                  0\n",
       "YELLOW_FINGERS           0\n",
       "ANXIETY                  0\n",
       "PEER_PRESSURE            0\n",
       "CHRONIC DISEASE          0\n",
       "FATIGUE                  0\n",
       "ALLERGY                  0\n",
       "WHEEZING                 0\n",
       "ALCOHOL CONSUMING        0\n",
       "COUGHING                 0\n",
       "SHORTNESS OF BREATH      0\n",
       "SWALLOWING DIFFICULTY    0\n",
       "CHEST PAIN               0\n",
       "LUNG_CANCER              0\n",
       "dtype: int64"
      ]
     },
     "execution_count": 5,
     "metadata": {},
     "output_type": "execute_result"
    }
   ],
   "source": [
    "# Checking for null values\n",
    "data.isnull().sum()"
   ]
  },
  {
   "cell_type": "markdown",
   "id": "d7731ed0",
   "metadata": {
    "pycharm": {
     "name": "#%% md\n"
    }
   },
   "source": [
    "### **Checking Duplicates**"
   ]
  },
  {
   "cell_type": "code",
   "execution_count": 6,
   "id": "df56d2a0",
   "metadata": {
    "pycharm": {
     "name": "#%%\n"
    }
   },
   "outputs": [
    {
     "data": {
      "text/plain": [
       "33"
      ]
     },
     "execution_count": 6,
     "metadata": {},
     "output_type": "execute_result"
    }
   ],
   "source": [
    "data.duplicated().sum()"
   ]
  },
  {
   "cell_type": "markdown",
   "id": "a39cf3a7",
   "metadata": {
    "pycharm": {
     "name": "#%% md\n"
    }
   },
   "source": [
    "### **Dropping Duplicates**"
   ]
  },
  {
   "cell_type": "code",
   "execution_count": 7,
   "id": "bf7ac645",
   "metadata": {
    "pycharm": {
     "name": "#%%\n"
    }
   },
   "outputs": [],
   "source": [
    "data = data.drop_duplicates()"
   ]
  },
  {
   "cell_type": "markdown",
   "id": "64f9090b",
   "metadata": {
    "papermill": {
     "duration": 0.063232,
     "end_time": "2021-10-02T11:31:12.034710",
     "exception": false,
     "start_time": "2021-10-02T11:31:11.971478",
     "status": "completed"
    },
    "tags": [],
    "pycharm": {
     "name": "#%% md\n"
    }
   },
   "source": [
    "# **Transformation**"
   ]
  },
  {
   "cell_type": "code",
   "execution_count": 8,
   "id": "1b90a711",
   "metadata": {
    "execution": {
     "iopub.execute_input": "2021-10-02T11:31:12.168227Z",
     "iopub.status.busy": "2021-10-02T11:31:12.167574Z",
     "iopub.status.idle": "2021-10-02T11:31:12.182709Z",
     "shell.execute_reply": "2021-10-02T11:31:12.183248Z",
     "shell.execute_reply.started": "2021-10-02T11:29:06.541410Z"
    },
    "papermill": {
     "duration": 0.08226,
     "end_time": "2021-10-02T11:31:12.183417",
     "exception": false,
     "start_time": "2021-10-02T11:31:12.101157",
     "status": "completed"
    },
    "tags": [],
    "pycharm": {
     "name": "#%%\n"
    }
   },
   "outputs": [
    {
     "data": {
      "text/html": [
       "<div>\n",
       "<style scoped>\n",
       "    .dataframe tbody tr th:only-of-type {\n",
       "        vertical-align: middle;\n",
       "    }\n",
       "\n",
       "    .dataframe tbody tr th {\n",
       "        vertical-align: top;\n",
       "    }\n",
       "\n",
       "    .dataframe thead th {\n",
       "        text-align: right;\n",
       "    }\n",
       "</style>\n",
       "<table border=\"1\" class=\"dataframe\">\n",
       "  <thead>\n",
       "    <tr style=\"text-align: right;\">\n",
       "      <th></th>\n",
       "      <th>GENDER</th>\n",
       "      <th>AGE</th>\n",
       "      <th>SMOKING</th>\n",
       "      <th>YELLOW_FINGERS</th>\n",
       "      <th>ANXIETY</th>\n",
       "      <th>PEER_PRESSURE</th>\n",
       "      <th>CHRONIC DISEASE</th>\n",
       "      <th>FATIGUE</th>\n",
       "      <th>ALLERGY</th>\n",
       "      <th>WHEEZING</th>\n",
       "      <th>ALCOHOL CONSUMING</th>\n",
       "      <th>COUGHING</th>\n",
       "      <th>SHORTNESS OF BREATH</th>\n",
       "      <th>SWALLOWING DIFFICULTY</th>\n",
       "      <th>CHEST PAIN</th>\n",
       "      <th>LUNG_CANCER</th>\n",
       "    </tr>\n",
       "  </thead>\n",
       "  <tbody>\n",
       "    <tr>\n",
       "      <th>0</th>\n",
       "      <td>M</td>\n",
       "      <td>69</td>\n",
       "      <td>1</td>\n",
       "      <td>2</td>\n",
       "      <td>2</td>\n",
       "      <td>1</td>\n",
       "      <td>1</td>\n",
       "      <td>2</td>\n",
       "      <td>1</td>\n",
       "      <td>2</td>\n",
       "      <td>2</td>\n",
       "      <td>2</td>\n",
       "      <td>2</td>\n",
       "      <td>2</td>\n",
       "      <td>2</td>\n",
       "      <td>0</td>\n",
       "    </tr>\n",
       "    <tr>\n",
       "      <th>1</th>\n",
       "      <td>M</td>\n",
       "      <td>74</td>\n",
       "      <td>2</td>\n",
       "      <td>1</td>\n",
       "      <td>1</td>\n",
       "      <td>1</td>\n",
       "      <td>2</td>\n",
       "      <td>2</td>\n",
       "      <td>2</td>\n",
       "      <td>1</td>\n",
       "      <td>1</td>\n",
       "      <td>1</td>\n",
       "      <td>2</td>\n",
       "      <td>2</td>\n",
       "      <td>2</td>\n",
       "      <td>0</td>\n",
       "    </tr>\n",
       "    <tr>\n",
       "      <th>2</th>\n",
       "      <td>F</td>\n",
       "      <td>59</td>\n",
       "      <td>1</td>\n",
       "      <td>1</td>\n",
       "      <td>1</td>\n",
       "      <td>2</td>\n",
       "      <td>1</td>\n",
       "      <td>2</td>\n",
       "      <td>1</td>\n",
       "      <td>2</td>\n",
       "      <td>1</td>\n",
       "      <td>2</td>\n",
       "      <td>2</td>\n",
       "      <td>1</td>\n",
       "      <td>2</td>\n",
       "      <td>1</td>\n",
       "    </tr>\n",
       "    <tr>\n",
       "      <th>3</th>\n",
       "      <td>M</td>\n",
       "      <td>63</td>\n",
       "      <td>2</td>\n",
       "      <td>2</td>\n",
       "      <td>2</td>\n",
       "      <td>1</td>\n",
       "      <td>1</td>\n",
       "      <td>1</td>\n",
       "      <td>1</td>\n",
       "      <td>1</td>\n",
       "      <td>2</td>\n",
       "      <td>1</td>\n",
       "      <td>1</td>\n",
       "      <td>2</td>\n",
       "      <td>2</td>\n",
       "      <td>1</td>\n",
       "    </tr>\n",
       "    <tr>\n",
       "      <th>4</th>\n",
       "      <td>F</td>\n",
       "      <td>63</td>\n",
       "      <td>1</td>\n",
       "      <td>2</td>\n",
       "      <td>1</td>\n",
       "      <td>1</td>\n",
       "      <td>1</td>\n",
       "      <td>1</td>\n",
       "      <td>1</td>\n",
       "      <td>2</td>\n",
       "      <td>1</td>\n",
       "      <td>2</td>\n",
       "      <td>2</td>\n",
       "      <td>1</td>\n",
       "      <td>1</td>\n",
       "      <td>1</td>\n",
       "    </tr>\n",
       "  </tbody>\n",
       "</table>\n",
       "</div>"
      ],
      "text/plain": [
       "  GENDER  AGE  SMOKING  YELLOW_FINGERS  ANXIETY  PEER_PRESSURE  \\\n",
       "0      M   69        1               2        2              1   \n",
       "1      M   74        2               1        1              1   \n",
       "2      F   59        1               1        1              2   \n",
       "3      M   63        2               2        2              1   \n",
       "4      F   63        1               2        1              1   \n",
       "\n",
       "   CHRONIC DISEASE  FATIGUE   ALLERGY   WHEEZING  ALCOHOL CONSUMING  COUGHING  \\\n",
       "0                1         2         1         2                  2         2   \n",
       "1                2         2         2         1                  1         1   \n",
       "2                1         2         1         2                  1         2   \n",
       "3                1         1         1         1                  2         1   \n",
       "4                1         1         1         2                  1         2   \n",
       "\n",
       "   SHORTNESS OF BREATH  SWALLOWING DIFFICULTY  CHEST PAIN  LUNG_CANCER  \n",
       "0                    2                      2           2            0  \n",
       "1                    2                      2           2            0  \n",
       "2                    2                      1           2            1  \n",
       "3                    1                      2           2            1  \n",
       "4                    2                      1           1            1  "
      ]
     },
     "execution_count": 8,
     "metadata": {},
     "output_type": "execute_result"
    }
   ],
   "source": [
    "# label encoding\n",
    "data.replace({\"LUNG_CANCER\":{'YES':0,'NO':1}},inplace=True)\n",
    "# printing the first 5 rows of the dataframe\n",
    "data.head(5)"
   ]
  },
  {
   "cell_type": "code",
   "execution_count": 9,
   "id": "dd2ef0eb",
   "metadata": {
    "execution": {
     "iopub.execute_input": "2021-10-02T11:31:12.315487Z",
     "iopub.status.busy": "2021-10-02T11:31:12.314839Z",
     "iopub.status.idle": "2021-10-02T11:31:12.321554Z",
     "shell.execute_reply": "2021-10-02T11:31:12.321045Z",
     "shell.execute_reply.started": "2021-10-02T11:29:06.564905Z"
    },
    "papermill": {
     "duration": 0.074691,
     "end_time": "2021-10-02T11:31:12.321686",
     "exception": false,
     "start_time": "2021-10-02T11:31:12.246995",
     "status": "completed"
    },
    "tags": [],
    "pycharm": {
     "name": "#%%\n"
    }
   },
   "outputs": [
    {
     "data": {
      "text/plain": [
       "0    238\n",
       "1     38\n",
       "Name: LUNG_CANCER, dtype: int64"
      ]
     },
     "execution_count": 9,
     "metadata": {},
     "output_type": "execute_result"
    }
   ],
   "source": [
    "# Value_counts of Lung Cancer\n",
    "data['LUNG_CANCER'].value_counts()"
   ]
  },
  {
   "cell_type": "code",
   "execution_count": 10,
   "id": "6017b9e5",
   "metadata": {
    "execution": {
     "iopub.execute_input": "2021-10-02T11:31:12.456064Z",
     "iopub.status.busy": "2021-10-02T11:31:12.455433Z",
     "iopub.status.idle": "2021-10-02T11:31:12.469498Z",
     "shell.execute_reply": "2021-10-02T11:31:12.468851Z",
     "shell.execute_reply.started": "2021-10-02T11:29:06.575685Z"
    },
    "papermill": {
     "duration": 0.083068,
     "end_time": "2021-10-02T11:31:12.469633",
     "exception": false,
     "start_time": "2021-10-02T11:31:12.386565",
     "status": "completed"
    },
    "scrolled": false,
    "tags": [],
    "pycharm": {
     "name": "#%%\n"
    }
   },
   "outputs": [
    {
     "data": {
      "text/html": [
       "<div>\n",
       "<style scoped>\n",
       "    .dataframe tbody tr th:only-of-type {\n",
       "        vertical-align: middle;\n",
       "    }\n",
       "\n",
       "    .dataframe tbody tr th {\n",
       "        vertical-align: top;\n",
       "    }\n",
       "\n",
       "    .dataframe thead th {\n",
       "        text-align: right;\n",
       "    }\n",
       "</style>\n",
       "<table border=\"1\" class=\"dataframe\">\n",
       "  <thead>\n",
       "    <tr style=\"text-align: right;\">\n",
       "      <th></th>\n",
       "      <th>GENDER</th>\n",
       "      <th>AGE</th>\n",
       "      <th>SMOKING</th>\n",
       "      <th>YELLOW_FINGERS</th>\n",
       "      <th>ANXIETY</th>\n",
       "      <th>PEER_PRESSURE</th>\n",
       "      <th>CHRONIC DISEASE</th>\n",
       "      <th>FATIGUE</th>\n",
       "      <th>ALLERGY</th>\n",
       "      <th>WHEEZING</th>\n",
       "      <th>ALCOHOL CONSUMING</th>\n",
       "      <th>COUGHING</th>\n",
       "      <th>SHORTNESS OF BREATH</th>\n",
       "      <th>SWALLOWING DIFFICULTY</th>\n",
       "      <th>CHEST PAIN</th>\n",
       "      <th>LUNG_CANCER</th>\n",
       "    </tr>\n",
       "  </thead>\n",
       "  <tbody>\n",
       "    <tr>\n",
       "      <th>0</th>\n",
       "      <td>0</td>\n",
       "      <td>69</td>\n",
       "      <td>1</td>\n",
       "      <td>2</td>\n",
       "      <td>2</td>\n",
       "      <td>1</td>\n",
       "      <td>1</td>\n",
       "      <td>2</td>\n",
       "      <td>1</td>\n",
       "      <td>2</td>\n",
       "      <td>2</td>\n",
       "      <td>2</td>\n",
       "      <td>2</td>\n",
       "      <td>2</td>\n",
       "      <td>2</td>\n",
       "      <td>0</td>\n",
       "    </tr>\n",
       "    <tr>\n",
       "      <th>1</th>\n",
       "      <td>0</td>\n",
       "      <td>74</td>\n",
       "      <td>2</td>\n",
       "      <td>1</td>\n",
       "      <td>1</td>\n",
       "      <td>1</td>\n",
       "      <td>2</td>\n",
       "      <td>2</td>\n",
       "      <td>2</td>\n",
       "      <td>1</td>\n",
       "      <td>1</td>\n",
       "      <td>1</td>\n",
       "      <td>2</td>\n",
       "      <td>2</td>\n",
       "      <td>2</td>\n",
       "      <td>0</td>\n",
       "    </tr>\n",
       "    <tr>\n",
       "      <th>2</th>\n",
       "      <td>1</td>\n",
       "      <td>59</td>\n",
       "      <td>1</td>\n",
       "      <td>1</td>\n",
       "      <td>1</td>\n",
       "      <td>2</td>\n",
       "      <td>1</td>\n",
       "      <td>2</td>\n",
       "      <td>1</td>\n",
       "      <td>2</td>\n",
       "      <td>1</td>\n",
       "      <td>2</td>\n",
       "      <td>2</td>\n",
       "      <td>1</td>\n",
       "      <td>2</td>\n",
       "      <td>1</td>\n",
       "    </tr>\n",
       "    <tr>\n",
       "      <th>3</th>\n",
       "      <td>0</td>\n",
       "      <td>63</td>\n",
       "      <td>2</td>\n",
       "      <td>2</td>\n",
       "      <td>2</td>\n",
       "      <td>1</td>\n",
       "      <td>1</td>\n",
       "      <td>1</td>\n",
       "      <td>1</td>\n",
       "      <td>1</td>\n",
       "      <td>2</td>\n",
       "      <td>1</td>\n",
       "      <td>1</td>\n",
       "      <td>2</td>\n",
       "      <td>2</td>\n",
       "      <td>1</td>\n",
       "    </tr>\n",
       "    <tr>\n",
       "      <th>4</th>\n",
       "      <td>1</td>\n",
       "      <td>63</td>\n",
       "      <td>1</td>\n",
       "      <td>2</td>\n",
       "      <td>1</td>\n",
       "      <td>1</td>\n",
       "      <td>1</td>\n",
       "      <td>1</td>\n",
       "      <td>1</td>\n",
       "      <td>2</td>\n",
       "      <td>1</td>\n",
       "      <td>2</td>\n",
       "      <td>2</td>\n",
       "      <td>1</td>\n",
       "      <td>1</td>\n",
       "      <td>1</td>\n",
       "    </tr>\n",
       "  </tbody>\n",
       "</table>\n",
       "</div>"
      ],
      "text/plain": [
       "   GENDER  AGE  SMOKING  YELLOW_FINGERS  ANXIETY  PEER_PRESSURE  \\\n",
       "0       0   69        1               2        2              1   \n",
       "1       0   74        2               1        1              1   \n",
       "2       1   59        1               1        1              2   \n",
       "3       0   63        2               2        2              1   \n",
       "4       1   63        1               2        1              1   \n",
       "\n",
       "   CHRONIC DISEASE  FATIGUE   ALLERGY   WHEEZING  ALCOHOL CONSUMING  COUGHING  \\\n",
       "0                1         2         1         2                  2         2   \n",
       "1                2         2         2         1                  1         1   \n",
       "2                1         2         1         2                  1         2   \n",
       "3                1         1         1         1                  2         1   \n",
       "4                1         1         1         2                  1         2   \n",
       "\n",
       "   SHORTNESS OF BREATH  SWALLOWING DIFFICULTY  CHEST PAIN  LUNG_CANCER  \n",
       "0                    2                      2           2            0  \n",
       "1                    2                      2           2            0  \n",
       "2                    2                      1           2            1  \n",
       "3                    1                      2           2            1  \n",
       "4                    2                      1           1            1  "
      ]
     },
     "execution_count": 10,
     "metadata": {},
     "output_type": "execute_result"
    }
   ],
   "source": [
    "# label encoding\n",
    "data.replace({\"GENDER\":{'M':0,'F':1}},inplace=True)\n",
    "# printing the first 5 rows of the dataframe\n",
    "data.head(5)"
   ]
  },
  {
   "cell_type": "markdown",
   "id": "26fd7566",
   "metadata": {
    "papermill": {
     "duration": 0.064546,
     "end_time": "2021-10-02T11:31:12.599224",
     "exception": false,
     "start_time": "2021-10-02T11:31:12.534678",
     "status": "completed"
    },
    "tags": [],
    "pycharm": {
     "name": "#%% md\n"
    }
   },
   "source": [
    "# Data Visualization"
   ]
  },
  {
   "cell_type": "code",
   "execution_count": 11,
   "id": "201ab113",
   "metadata": {
    "execution": {
     "iopub.execute_input": "2021-10-02T11:31:12.735363Z",
     "iopub.status.busy": "2021-10-02T11:31:12.734580Z",
     "iopub.status.idle": "2021-10-02T11:31:13.781258Z",
     "shell.execute_reply": "2021-10-02T11:31:13.781694Z",
     "shell.execute_reply.started": "2021-10-02T11:29:06.595300Z"
    },
    "papermill": {
     "duration": 1.116112,
     "end_time": "2021-10-02T11:31:13.781860",
     "exception": false,
     "start_time": "2021-10-02T11:31:12.665748",
     "status": "completed"
    },
    "tags": [],
    "pycharm": {
     "name": "#%%\n"
    }
   },
   "outputs": [
    {
     "data": {
      "text/plain": [
       "<AxesSubplot:xlabel='LUNG_CANCER', ylabel='count'>"
      ]
     },
     "execution_count": 11,
     "metadata": {},
     "output_type": "execute_result"
    },
    {
     "data": {
      "image/png": "[encoded data removed]",
      "text/plain": [
       "<Figure size 432x288 with 1 Axes>"
      ]
     },
     "metadata": {
      "needs_background": "light"
     },
     "output_type": "display_data"
    }
   ],
   "source": [
    "# Lung Cancer & Lung Cancer Count\n",
    "import seaborn as sns\n",
    "sns.countplot(x='LUNG_CANCER',hue='LUNG_CANCER',data=data)"
   ]
  },
  {
   "cell_type": "code",
   "execution_count": 12,
   "id": "e668bad1",
   "metadata": {
    "execution": {
     "iopub.execute_input": "2021-10-02T11:31:13.922963Z",
     "iopub.status.busy": "2021-10-02T11:31:13.922332Z",
     "iopub.status.idle": "2021-10-02T11:31:14.094105Z",
     "shell.execute_reply": "2021-10-02T11:31:14.093121Z",
     "shell.execute_reply.started": "2021-10-02T11:29:06.798751Z"
    },
    "papermill": {
     "duration": 0.24632,
     "end_time": "2021-10-02T11:31:14.094263",
     "exception": false,
     "start_time": "2021-10-02T11:31:13.847943",
     "status": "completed"
    },
    "tags": [],
    "pycharm": {
     "name": "#%%\n"
    }
   },
   "outputs": [
    {
     "data": {
      "text/plain": [
       "<AxesSubplot:xlabel='GENDER', ylabel='count'>"
      ]
     },
     "execution_count": 12,
     "metadata": {},
     "output_type": "execute_result"
    },
    {
     "data": {
      "image/png": "[encoded data removed]",
      "text/plain": [
       "<Figure size 432x288 with 1 Axes>"
      ]
     },
     "metadata": {
      "needs_background": "light"
     },
     "output_type": "display_data"
    }
   ],
   "source": [
    "# Gender & Lung Cancer\n",
    "import seaborn as sns\n",
    "sns.countplot(x='GENDER',hue='LUNG_CANCER',data=data)"
   ]
  },
  {
   "cell_type": "code",
   "execution_count": 13,
   "id": "afb3ec5b",
   "metadata": {
    "execution": {
     "iopub.execute_input": "2021-10-02T11:31:14.233917Z",
     "iopub.status.busy": "2021-10-02T11:31:14.232962Z",
     "iopub.status.idle": "2021-10-02T11:31:15.972026Z",
     "shell.execute_reply": "2021-10-02T11:31:15.972516Z",
     "shell.execute_reply.started": "2021-10-02T11:29:07.022033Z"
    },
    "papermill": {
     "duration": 1.810272,
     "end_time": "2021-10-02T11:31:15.972694",
     "exception": false,
     "start_time": "2021-10-02T11:31:14.162422",
     "status": "completed"
    },
    "tags": [],
    "pycharm": {
     "name": "#%%\n"
    }
   },
   "outputs": [
    {
     "name": "stderr",
     "output_type": "stream",
     "text": [
      "C:\\ProgramData\\Anaconda3\\lib\\site-packages\\seaborn\\distributions.py:2557: FutureWarning: `distplot` is a deprecated function and will be removed in a future version. Please adapt your code to use either `displot` (a figure-level function with similar flexibility) or `histplot` (an axes-level function for histograms).\n",
      "  warnings.warn(msg, FutureWarning)\n",
      "C:\\ProgramData\\Anaconda3\\lib\\site-packages\\seaborn\\distributions.py:2557: FutureWarning: `distplot` is a deprecated function and will be removed in a future version. Please adapt your code to use either `displot` (a figure-level function with similar flexibility) or `histplot` (an axes-level function for histograms).\n",
      "  warnings.warn(msg, FutureWarning)\n",
      "C:\\ProgramData\\Anaconda3\\lib\\site-packages\\seaborn\\distributions.py:2557: FutureWarning: `distplot` is a deprecated function and will be removed in a future version. Please adapt your code to use either `displot` (a figure-level function with similar flexibility) or `histplot` (an axes-level function for histograms).\n",
      "  warnings.warn(msg, FutureWarning)\n",
      "C:\\ProgramData\\Anaconda3\\lib\\site-packages\\seaborn\\distributions.py:2557: FutureWarning: `distplot` is a deprecated function and will be removed in a future version. Please adapt your code to use either `displot` (a figure-level function with similar flexibility) or `histplot` (an axes-level function for histograms).\n",
      "  warnings.warn(msg, FutureWarning)\n",
      "C:\\ProgramData\\Anaconda3\\lib\\site-packages\\seaborn\\distributions.py:2557: FutureWarning: `distplot` is a deprecated function and will be removed in a future version. Please adapt your code to use either `displot` (a figure-level function with similar flexibility) or `histplot` (an axes-level function for histograms).\n",
      "  warnings.warn(msg, FutureWarning)\n",
      "C:\\ProgramData\\Anaconda3\\lib\\site-packages\\seaborn\\distributions.py:2557: FutureWarning: `distplot` is a deprecated function and will be removed in a future version. Please adapt your code to use either `displot` (a figure-level function with similar flexibility) or `histplot` (an axes-level function for histograms).\n",
      "  warnings.warn(msg, FutureWarning)\n",
      "C:\\ProgramData\\Anaconda3\\lib\\site-packages\\seaborn\\distributions.py:2557: FutureWarning: `distplot` is a deprecated function and will be removed in a future version. Please adapt your code to use either `displot` (a figure-level function with similar flexibility) or `histplot` (an axes-level function for histograms).\n",
      "  warnings.warn(msg, FutureWarning)\n",
      "C:\\ProgramData\\Anaconda3\\lib\\site-packages\\seaborn\\distributions.py:2557: FutureWarning: `distplot` is a deprecated function and will be removed in a future version. Please adapt your code to use either `displot` (a figure-level function with similar flexibility) or `histplot` (an axes-level function for histograms).\n",
      "  warnings.warn(msg, FutureWarning)\n",
      "C:\\ProgramData\\Anaconda3\\lib\\site-packages\\seaborn\\distributions.py:2557: FutureWarning: `distplot` is a deprecated function and will be removed in a future version. Please adapt your code to use either `displot` (a figure-level function with similar flexibility) or `histplot` (an axes-level function for histograms).\n",
      "  warnings.warn(msg, FutureWarning)\n"
     ]
    },
    {
     "data": {
      "image/png": "[encoded data removed]",
      "text/plain": [
       "<Figure size 1440x1800 with 9 Axes>"
      ]
     },
     "metadata": {
      "needs_background": "light"
     },
     "output_type": "display_data"
    }
   ],
   "source": [
    "# let's see how data is distributed for every column\n",
    "import matplotlib.pyplot as plt\n",
    "\n",
    "plt.figure(figsize = (20, 25))\n",
    "plotnumber = 1\n",
    "for column in data:\n",
    "    if plotnumber <= 9:\n",
    "        ax = plt.subplot(3, 3, plotnumber)\n",
    "        sns.distplot(data[column])\n",
    "        plt.xlabel(column, fontsize = 15)\n",
    "        \n",
    "    plotnumber += 1\n",
    "plt.show()"
   ]
  },
  {
   "cell_type": "code",
   "execution_count": 14,
   "id": "f8db6571",
   "metadata": {
    "scrolled": true,
    "pycharm": {
     "name": "#%%\n"
    }
   },
   "outputs": [
    {
     "data": {
      "image/png": "[encoded data removed]",
      "text/plain": [
       "<Figure size 648x648 with 1 Axes>"
      ]
     },
     "metadata": {
      "needs_background": "light"
     },
     "output_type": "display_data"
    }
   ],
   "source": [
    "plt.figure(figsize=(9,9))\n",
    "sns.histplot(data[['AGE', 'LUNG_CANCER']], x = \"AGE\", hue=\"LUNG_CANCER\")\n",
    "plt.title(\"\")\n",
    "plt.show()"
   ]
  },
  {
   "cell_type": "markdown",
   "id": "a578b8ca",
   "metadata": {
    "papermill": {
     "duration": 0.073622,
     "end_time": "2021-10-02T11:31:16.121349",
     "exception": false,
     "start_time": "2021-10-02T11:31:16.047727",
     "status": "completed"
    },
    "tags": [],
    "pycharm": {
     "name": "#%% md\n"
    }
   },
   "source": [
    "**We can see that the distribution of data is normal ! lets move for the Model preparation.** 🚀"
   ]
  },
  {
   "cell_type": "markdown",
   "id": "132910ad",
   "metadata": {
    "pycharm": {
     "name": "#%% md\n"
    }
   },
   "source": [
    "### Find Correlations in Data Set"
   ]
  },
  {
   "cell_type": "code",
   "execution_count": 15,
   "id": "38395b8f",
   "metadata": {
    "pycharm": {
     "name": "#%%\n"
    }
   },
   "outputs": [
    {
     "data": {
      "image/png": "[encoded data removed]",
      "text/plain": [
       "<Figure size 1440x720 with 2 Axes>"
      ]
     },
     "metadata": {
      "needs_background": "light"
     },
     "output_type": "display_data"
    }
   ],
   "source": [
    "plt.figure(figsize=(20,10))\n",
    "sns.heatmap(data.corr(), annot=True);\n",
    "plt.show()"
   ]
  },
  {
   "cell_type": "markdown",
   "id": "569358c0",
   "metadata": {
    "papermill": {
     "duration": 0.07183,
     "end_time": "2021-10-02T11:31:16.266208",
     "exception": false,
     "start_time": "2021-10-02T11:31:16.194378",
     "status": "completed"
    },
    "tags": [],
    "pycharm": {
     "name": "#%% md\n"
    }
   },
   "source": [
    "# **Model Preparation**\n",
    "\n",
    "Spilt into X & Y"
   ]
  },
  {
   "cell_type": "code",
   "execution_count": 16,
   "id": "667ce9a7",
   "metadata": {
    "execution": {
     "iopub.execute_input": "2021-10-02T11:31:16.417274Z",
     "iopub.status.busy": "2021-10-02T11:31:16.416635Z",
     "iopub.status.idle": "2021-10-02T11:31:16.419581Z",
     "shell.execute_reply": "2021-10-02T11:31:16.419047Z",
     "shell.execute_reply.started": "2021-10-02T11:29:08.482791Z"
    },
    "papermill": {
     "duration": 0.080964,
     "end_time": "2021-10-02T11:31:16.419712",
     "exception": false,
     "start_time": "2021-10-02T11:31:16.338748",
     "status": "completed"
    },
    "tags": [],
    "pycharm": {
     "name": "#%%\n"
    }
   },
   "outputs": [],
   "source": [
    "# separating the data and target\n",
    "X = data.drop(columns=['LUNG_CANCER'],axis=1)\n",
    "y = data['LUNG_CANCER']"
   ]
  },
  {
   "cell_type": "code",
   "execution_count": 17,
   "id": "811f1830",
   "metadata": {
    "execution": {
     "iopub.execute_input": "2021-10-02T11:31:16.571471Z",
     "iopub.status.busy": "2021-10-02T11:31:16.570856Z",
     "iopub.status.idle": "2021-10-02T11:31:16.574088Z",
     "shell.execute_reply": "2021-10-02T11:31:16.573555Z",
     "shell.execute_reply.started": "2021-10-02T11:29:08.490495Z"
    },
    "papermill": {
     "duration": 0.081128,
     "end_time": "2021-10-02T11:31:16.574218",
     "exception": false,
     "start_time": "2021-10-02T11:31:16.493090",
     "status": "completed"
    },
    "tags": [],
    "pycharm": {
     "name": "#%%\n"
    }
   },
   "outputs": [
    {
     "name": "stdout",
     "output_type": "stream",
     "text": [
      "The shape of X is  (276, 15)\n",
      "The shape of Y is  (276,)\n"
     ]
    }
   ],
   "source": [
    "print(\"The shape of X is \" , X.shape)\n",
    "print(\"The shape of Y is \" , y.shape)"
   ]
  },
  {
   "cell_type": "code",
   "execution_count": 18,
   "id": "341593ae",
   "metadata": {
    "execution": {
     "iopub.execute_input": "2021-10-02T11:31:16.728310Z",
     "iopub.status.busy": "2021-10-02T11:31:16.724947Z",
     "iopub.status.idle": "2021-10-02T11:31:16.894127Z",
     "shell.execute_reply": "2021-10-02T11:31:16.894720Z",
     "shell.execute_reply.started": "2021-10-02T11:29:08.504204Z"
    },
    "papermill": {
     "duration": 0.24632,
     "end_time": "2021-10-02T11:31:16.894893",
     "exception": false,
     "start_time": "2021-10-02T11:31:16.648573",
     "status": "completed"
    },
    "tags": [],
    "pycharm": {
     "name": "#%%\n"
    }
   },
   "outputs": [
    {
     "name": "stdout",
     "output_type": "stream",
     "text": [
      "Shape of X_train is  (220, 15)\n",
      "Shape of X_test  is  (56, 15)\n",
      "Shape of Y_train is  (220,)\n",
      "Shape of Y_test  is  (56,)\n"
     ]
    }
   ],
   "source": [
    "from sklearn.model_selection import train_test_split\n",
    "# separating into train and testing\n",
    "X_train, X_test,Y_train,Y_test = train_test_split(X,y,test_size=0.2,stratify=y,random_state=42)\n",
    "print(\"Shape of X_train is \" ,X_train.shape)\n",
    "print(\"Shape of X_test  is \" ,X_test.shape)\n",
    "print(\"Shape of Y_train is \" ,Y_train.shape)\n",
    "print(\"Shape of Y_test  is \" ,Y_test.shape)"
   ]
  },
  {
   "cell_type": "code",
   "execution_count": 19,
   "id": "3f4d29cc",
   "metadata": {
    "execution": {
     "iopub.execute_input": "2021-10-02T11:31:17.050617Z",
     "iopub.status.busy": "2021-10-02T11:31:17.046678Z",
     "iopub.status.idle": "2021-10-02T11:31:17.053869Z",
     "shell.execute_reply": "2021-10-02T11:31:17.054337Z",
     "shell.execute_reply.started": "2021-10-02T11:29:08.519679Z"
    },
    "papermill": {
     "duration": 0.085183,
     "end_time": "2021-10-02T11:31:17.054504",
     "exception": false,
     "start_time": "2021-10-02T11:31:16.969321",
     "status": "completed"
    },
    "scrolled": true,
    "tags": [],
    "pycharm": {
     "name": "#%%\n"
    }
   },
   "outputs": [
    {
     "name": "stdout",
     "output_type": "stream",
     "text": [
      "0    190\n",
      "1     30\n",
      "Name: LUNG_CANCER, dtype: int64\n",
      "0    48\n",
      "1     8\n",
      "Name: LUNG_CANCER, dtype: int64\n"
     ]
    }
   ],
   "source": [
    "# After statify Y train & test values\n",
    "print(Y_train.value_counts())\n",
    "print(Y_test.value_counts())"
   ]
  },
  {
   "cell_type": "markdown",
   "id": "7e89f8d0",
   "metadata": {
    "papermill": {
     "duration": 0.07314,
     "end_time": "2021-10-02T11:31:17.202612",
     "exception": false,
     "start_time": "2021-10-02T11:31:17.129472",
     "status": "completed"
    },
    "tags": [],
    "pycharm": {
     "name": "#%% md\n"
    }
   },
   "source": [
    "# **Feature Scalilng**"
   ]
  },
  {
   "cell_type": "code",
   "execution_count": 20,
   "id": "3f862af7",
   "metadata": {
    "execution": {
     "iopub.execute_input": "2021-10-02T11:31:17.361087Z",
     "iopub.status.busy": "2021-10-02T11:31:17.360435Z",
     "iopub.status.idle": "2021-10-02T11:31:17.362740Z",
     "shell.execute_reply": "2021-10-02T11:31:17.362152Z",
     "shell.execute_reply.started": "2021-10-02T11:29:08.529817Z"
    },
    "papermill": {
     "duration": 0.086397,
     "end_time": "2021-10-02T11:31:17.362873",
     "exception": false,
     "start_time": "2021-10-02T11:31:17.276476",
     "status": "completed"
    },
    "tags": [],
    "pycharm": {
     "name": "#%%\n"
    }
   },
   "outputs": [],
   "source": [
    "# scaling the data \n",
    "from sklearn.preprocessing import StandardScaler\n",
    "scaler = StandardScaler()\n",
    "X_train = scaler.fit_transform(X_train)\n",
    "X_test = scaler.transform(X_test)"
   ]
  },
  {
   "cell_type": "code",
   "execution_count": 21,
   "id": "68a7ad80",
   "metadata": {
    "execution": {
     "iopub.execute_input": "2021-10-02T11:31:17.517096Z",
     "iopub.status.busy": "2021-10-02T11:31:17.514074Z",
     "iopub.status.idle": "2021-10-02T11:31:17.519484Z",
     "shell.execute_reply": "2021-10-02T11:31:17.520043Z",
     "shell.execute_reply.started": "2021-10-02T11:29:08.544209Z"
    },
    "papermill": {
     "duration": 0.083302,
     "end_time": "2021-10-02T11:31:17.520223",
     "exception": false,
     "start_time": "2021-10-02T11:31:17.436921",
     "status": "completed"
    },
    "tags": [],
    "pycharm": {
     "name": "#%%\n"
    }
   },
   "outputs": [
    {
     "data": {
      "text/plain": [
       "array([[ 1.04653624,  0.48957626,  0.94686415, ..., -1.26025208,\n",
       "        -0.94686415, -1.08545743],\n",
       "       [-0.95553309,  1.21082701, -1.05611771, ...,  0.79349205,\n",
       "         1.05611771,  0.92127059],\n",
       "       [ 1.04653624, -0.23167448,  0.94686415, ...,  0.79349205,\n",
       "         1.05611771,  0.92127059],\n",
       "       ...,\n",
       "       [ 1.04653624,  1.09061855,  0.94686415, ...,  0.79349205,\n",
       "         1.05611771,  0.92127059],\n",
       "       [ 1.04653624, -0.71250831, -1.05611771, ..., -1.26025208,\n",
       "        -0.94686415, -1.08545743],\n",
       "       [ 1.04653624, -1.19334214, -1.05611771, ...,  0.79349205,\n",
       "        -0.94686415, -1.08545743]])"
      ]
     },
     "execution_count": 21,
     "metadata": {},
     "output_type": "execute_result"
    }
   ],
   "source": [
    "X_train"
   ]
  },
  {
   "cell_type": "code",
   "execution_count": 90,
   "id": "ad766a79",
   "metadata": {
    "pycharm": {
     "name": "#%%\n"
    }
   },
   "outputs": [],
   "source": [
    "from sklearn.ensemble import RandomForestClassifier\n",
    "randf=RandomForestClassifier(n_estimators=100)\n",
    "randf.fit(X_train,Y_train)\n",
    "y_pred=randf.predict(X_test)"
   ]
  },
  {
   "cell_type": "code",
   "execution_count": 92,
   "id": "3eb0f63f",
   "metadata": {
    "pycharm": {
     "name": "#%%\n"
    }
   },
   "outputs": [
    {
     "data": {
      "text/plain": [
       "array([0.05188234, 0.2028285 , 0.03905459, 0.0610416 , 0.04305452,\n",
       "       0.0822048 , 0.05833999, 0.06249451, 0.08548712, 0.0476663 ,\n",
       "       0.08213085, 0.05652442, 0.04079609, 0.05496677, 0.0315276 ])"
      ]
     },
     "execution_count": 92,
     "metadata": {},
     "output_type": "execute_result"
    }
   ],
   "source": [
    "randf.feature_importances_"
   ]
  },
  {
   "cell_type": "code",
   "execution_count": 93,
   "id": "f2d37f65",
   "metadata": {
    "pycharm": {
     "name": "#%%\n"
    }
   },
   "outputs": [],
   "source": [
    "features = data.columns.values.tolist()[0:15] #Dropping Dependent Variable Lung Cancer \n",
    "feature_pro = pd.Series(randf.feature_importances_,index=features).sort_values(ascending=False)"
   ]
  },
  {
   "cell_type": "code",
   "execution_count": 94,
   "id": "81119afe",
   "metadata": {
    "pycharm": {
     "name": "#%%\n"
    }
   },
   "outputs": [
    {
     "data": {
      "text/plain": [
       "AGE                      0.202829\n",
       "ALLERGY                  0.085487\n",
       "PEER_PRESSURE            0.082205\n",
       "ALCOHOL CONSUMING        0.082131\n",
       "FATIGUE                  0.062495\n",
       "YELLOW_FINGERS           0.061042\n",
       "CHRONIC DISEASE          0.058340\n",
       "COUGHING                 0.056524\n",
       "SWALLOWING DIFFICULTY    0.054967\n",
       "GENDER                   0.051882\n",
       "WHEEZING                 0.047666\n",
       "ANXIETY                  0.043055\n",
       "SHORTNESS OF BREATH      0.040796\n",
       "SMOKING                  0.039055\n",
       "CHEST PAIN               0.031528\n",
       "dtype: float64"
      ]
     },
     "execution_count": 94,
     "metadata": {},
     "output_type": "execute_result"
    }
   ],
   "source": [
    "feature_pro "
   ]
  },
  {
   "cell_type": "markdown",
   "id": "67bb27c1",
   "metadata": {
    "pycharm": {
     "name": "#%% md\n"
    }
   },
   "source": [
    "## Feature Importances Vizualizing"
   ]
  },
  {
   "cell_type": "code",
   "execution_count": 95,
   "id": "a1d3d09a",
   "metadata": {
    "pycharm": {
     "name": "#%%\n"
    }
   },
   "outputs": [
    {
     "name": "stderr",
     "output_type": "stream",
     "text": [
      "No handles with labels found to put in legend.\n"
     ]
    },
    {
     "data": {
      "image/png": "[encoded data removed]",
      "text/plain": [
       "<Figure size 432x288 with 1 Axes>"
      ]
     },
     "metadata": {
      "needs_background": "light"
     },
     "output_type": "display_data"
    }
   ],
   "source": [
    "import seaborn as sns\n",
    "%matplotlib inline\n",
    "# Creating a bar plot\n",
    "sns.barplot(x=feature_pro, y=feature_pro.index)\n",
    "# Add labels to your graph\n",
    "plt.xlabel('Feature Importance Score')\n",
    "plt.ylabel('Features')\n",
    "plt.title(\"Visualizing Important Features\")\n",
    "plt.legend()\n",
    "plt.show()"
   ]
  },
  {
   "cell_type": "markdown",
   "id": "ff3bc047",
   "metadata": {
    "papermill": {
     "duration": 0.0797,
     "end_time": "2021-10-02T11:31:17.675506",
     "exception": false,
     "start_time": "2021-10-02T11:31:17.595806",
     "status": "completed"
    },
    "tags": [],
    "pycharm": {
     "name": "#%% md\n"
    }
   },
   "source": [
    "# **Model Training**\n",
    "\n",
    "**We will train different model after the evaluation of model we will select out best model for production.**\n",
    "\n",
    "1.   Logistic Regression\n",
    "2.   KNN\n",
    "3.   SVC\n",
    "3.   Decision Tree\n",
    "4.   Random Forest Regressor\n",
    "5.   XgBoost\n",
    "6.   Gradient Boosting\n"
   ]
  },
  {
   "cell_type": "markdown",
   "id": "7ab607e9",
   "metadata": {
    "papermill": {
     "duration": 0.074265,
     "end_time": "2021-10-02T11:31:17.824394",
     "exception": false,
     "start_time": "2021-10-02T11:31:17.750129",
     "status": "completed"
    },
    "tags": [],
    "pycharm": {
     "name": "#%% md\n"
    }
   },
   "source": [
    "## **Logistic Regression**"
   ]
  },
  {
   "cell_type": "code",
   "execution_count": 27,
   "id": "a86e1fc6",
   "metadata": {
    "execution": {
     "iopub.execute_input": "2021-10-02T11:31:17.977401Z",
     "iopub.status.busy": "2021-10-02T11:31:17.976743Z",
     "iopub.status.idle": "2021-10-02T11:31:18.064538Z",
     "shell.execute_reply": "2021-10-02T11:31:18.064003Z",
     "shell.execute_reply.started": "2021-10-02T11:29:08.555842Z"
    },
    "papermill": {
     "duration": 0.165392,
     "end_time": "2021-10-02T11:31:18.064687",
     "exception": false,
     "start_time": "2021-10-02T11:31:17.899295",
     "status": "completed"
    },
    "tags": [],
    "pycharm": {
     "name": "#%%\n"
    }
   },
   "outputs": [
    {
     "name": "stdout",
     "output_type": "stream",
     "text": [
      "Training Accuracy of Logistic Regression Model is 0.9363636363636364\n",
      "Test Accuracy of Logistic Regression Model is 0.9464285714285714\n"
     ]
    }
   ],
   "source": [
    "from sklearn.linear_model import LogisticRegression\n",
    "from sklearn.metrics import accuracy_score, confusion_matrix, classification_report\n",
    "\n",
    "lr = LogisticRegression()\n",
    "lr.fit(X_train, Y_train)\n",
    "y_pred = lr.predict(X_test)\n",
    "\n",
    "lr_train_acc = accuracy_score(Y_train, lr.predict(X_train))\n",
    "lr_test_acc = accuracy_score(Y_test, y_pred)\n",
    "\n",
    "print(f\"Training Accuracy of Logistic Regression Model is {lr_train_acc}\")\n",
    "print(f\"Test Accuracy of Logistic Regression Model is {lr_test_acc}\")"
   ]
  },
  {
   "cell_type": "code",
   "execution_count": 28,
   "id": "07112652",
   "metadata": {
    "execution": {
     "iopub.execute_input": "2021-10-02T11:31:18.217580Z",
     "iopub.status.busy": "2021-10-02T11:31:18.216611Z",
     "iopub.status.idle": "2021-10-02T11:31:18.224120Z",
     "shell.execute_reply": "2021-10-02T11:31:18.224594Z",
     "shell.execute_reply.started": "2021-10-02T11:29:08.575791Z"
    },
    "papermill": {
     "duration": 0.084961,
     "end_time": "2021-10-02T11:31:18.224750",
     "exception": false,
     "start_time": "2021-10-02T11:31:18.139789",
     "status": "completed"
    },
    "tags": [],
    "pycharm": {
     "name": "#%%\n"
    }
   },
   "outputs": [
    {
     "data": {
      "text/plain": [
       "array([[48,  0],\n",
       "       [ 3,  5]], dtype=int64)"
      ]
     },
     "execution_count": 28,
     "metadata": {},
     "output_type": "execute_result"
    }
   ],
   "source": [
    "# confusion matrix \n",
    "confusion_matrix(Y_test, y_pred)"
   ]
  },
  {
   "cell_type": "code",
   "execution_count": 29,
   "id": "e0913cce",
   "metadata": {
    "execution": {
     "iopub.execute_input": "2021-10-02T11:31:18.376811Z",
     "iopub.status.busy": "2021-10-02T11:31:18.375880Z",
     "iopub.status.idle": "2021-10-02T11:31:18.385208Z",
     "shell.execute_reply": "2021-10-02T11:31:18.384591Z",
     "shell.execute_reply.started": "2021-10-02T11:29:08.582515Z"
    },
    "papermill": {
     "duration": 0.08672,
     "end_time": "2021-10-02T11:31:18.385344",
     "exception": false,
     "start_time": "2021-10-02T11:31:18.298624",
     "status": "completed"
    },
    "tags": [],
    "pycharm": {
     "name": "#%%\n"
    }
   },
   "outputs": [
    {
     "name": "stdout",
     "output_type": "stream",
     "text": [
      "              precision    recall  f1-score   support\n",
      "\n",
      "           0       0.94      1.00      0.97        48\n",
      "           1       1.00      0.62      0.77         8\n",
      "\n",
      "    accuracy                           0.95        56\n",
      "   macro avg       0.97      0.81      0.87        56\n",
      "weighted avg       0.95      0.95      0.94        56\n",
      "\n"
     ]
    }
   ],
   "source": [
    "# classification report\n",
    "print(classification_report(Y_test, y_pred))"
   ]
  },
  {
   "cell_type": "markdown",
   "id": "074d426c",
   "metadata": {
    "papermill": {
     "duration": 0.07577,
     "end_time": "2021-10-02T11:31:19.255964",
     "exception": false,
     "start_time": "2021-10-02T11:31:19.180194",
     "status": "completed"
    },
    "tags": [],
    "pycharm": {
     "name": "#%% md\n"
    }
   },
   "source": [
    "## **SVC**\n"
   ]
  },
  {
   "cell_type": "code",
   "execution_count": 33,
   "id": "7064820b",
   "metadata": {
    "execution": {
     "iopub.execute_input": "2021-10-02T11:31:19.415159Z",
     "iopub.status.busy": "2021-10-02T11:31:19.414512Z",
     "iopub.status.idle": "2021-10-02T11:31:19.421981Z",
     "shell.execute_reply": "2021-10-02T11:31:19.422631Z",
     "shell.execute_reply.started": "2021-10-02T11:29:08.645843Z"
    },
    "papermill": {
     "duration": 0.090449,
     "end_time": "2021-10-02T11:31:19.422865",
     "exception": false,
     "start_time": "2021-10-02T11:31:19.332416",
     "status": "completed"
    },
    "tags": [],
    "pycharm": {
     "name": "#%%\n"
    }
   },
   "outputs": [
    {
     "name": "stdout",
     "output_type": "stream",
     "text": [
      "Training Accuracy of SVC Model is 0.9545454545454546\n",
      "Test Accuracy of SVC Model is 0.9107142857142857\n"
     ]
    }
   ],
   "source": [
    "from sklearn.svm import SVC\n",
    "\n",
    "svc = SVC()\n",
    "svc.fit(X_train, Y_train)\n",
    "\n",
    "y_pred = svc.predict(X_test)\n",
    "\n",
    "svc_train_acc = accuracy_score(Y_train, svc.predict(X_train))\n",
    "svc_test_acc = accuracy_score(Y_test, y_pred)\n",
    "\n",
    "print(f\"Training Accuracy of SVC Model is {svc_train_acc}\")\n",
    "print(f\"Test Accuracy of SVC Model is {svc_test_acc}\")"
   ]
  },
  {
   "cell_type": "code",
   "execution_count": 34,
   "id": "a0df5176",
   "metadata": {
    "execution": {
     "iopub.execute_input": "2021-10-02T11:31:19.584364Z",
     "iopub.status.busy": "2021-10-02T11:31:19.583689Z",
     "iopub.status.idle": "2021-10-02T11:31:19.586516Z",
     "shell.execute_reply": "2021-10-02T11:31:19.587027Z",
     "shell.execute_reply.started": "2021-10-02T11:29:08.658337Z"
    },
    "papermill": {
     "duration": 0.086247,
     "end_time": "2021-10-02T11:31:19.587191",
     "exception": false,
     "start_time": "2021-10-02T11:31:19.500944",
     "status": "completed"
    },
    "tags": [],
    "pycharm": {
     "name": "#%%\n"
    }
   },
   "outputs": [
    {
     "data": {
      "text/plain": [
       "array([[46,  2],\n",
       "       [ 3,  5]], dtype=int64)"
      ]
     },
     "execution_count": 34,
     "metadata": {},
     "output_type": "execute_result"
    }
   ],
   "source": [
    "# confusion matrix\n",
    "confusion_matrix(Y_test, y_pred)"
   ]
  },
  {
   "cell_type": "code",
   "execution_count": 35,
   "id": "9159dacc",
   "metadata": {
    "execution": {
     "iopub.execute_input": "2021-10-02T11:31:19.745907Z",
     "iopub.status.busy": "2021-10-02T11:31:19.745306Z",
     "iopub.status.idle": "2021-10-02T11:31:19.754757Z",
     "shell.execute_reply": "2021-10-02T11:31:19.754009Z",
     "shell.execute_reply.started": "2021-10-02T11:29:08.669119Z"
    },
    "papermill": {
     "duration": 0.090064,
     "end_time": "2021-10-02T11:31:19.754922",
     "exception": false,
     "start_time": "2021-10-02T11:31:19.664858",
     "status": "completed"
    },
    "tags": [],
    "pycharm": {
     "name": "#%%\n"
    }
   },
   "outputs": [
    {
     "name": "stdout",
     "output_type": "stream",
     "text": [
      "              precision    recall  f1-score   support\n",
      "\n",
      "           0       0.94      0.96      0.95        48\n",
      "           1       0.71      0.62      0.67         8\n",
      "\n",
      "    accuracy                           0.91        56\n",
      "   macro avg       0.83      0.79      0.81        56\n",
      "weighted avg       0.91      0.91      0.91        56\n",
      "\n"
     ]
    }
   ],
   "source": [
    "# classification report\n",
    "print(classification_report(Y_test, y_pred))"
   ]
  },
  {
   "cell_type": "markdown",
   "id": "bca028f4",
   "metadata": {
    "papermill": {
     "duration": 0.077376,
     "end_time": "2021-10-02T11:31:19.909996",
     "exception": false,
     "start_time": "2021-10-02T11:31:19.832620",
     "status": "completed"
    },
    "tags": [],
    "pycharm": {
     "name": "#%% md\n"
    }
   },
   "source": [
    "## **DecisionTreeClassifier**"
   ]
  },
  {
   "cell_type": "code",
   "execution_count": 36,
   "id": "2e683bb3",
   "metadata": {
    "execution": {
     "iopub.execute_input": "2021-10-02T11:31:20.071381Z",
     "iopub.status.busy": "2021-10-02T11:31:20.070710Z",
     "iopub.status.idle": "2021-10-02T11:31:20.102875Z",
     "shell.execute_reply": "2021-10-02T11:31:20.103443Z",
     "shell.execute_reply.started": "2021-10-02T11:29:08.681571Z"
    },
    "papermill": {
     "duration": 0.115986,
     "end_time": "2021-10-02T11:31:20.103618",
     "exception": false,
     "start_time": "2021-10-02T11:31:19.987632",
     "status": "completed"
    },
    "tags": [],
    "pycharm": {
     "name": "#%%\n"
    }
   },
   "outputs": [
    {
     "name": "stdout",
     "output_type": "stream",
     "text": [
      "Training Accuracy of Decision Tree Model is 0.9954545454545455\n",
      "Test Accuracy of Decision Tree Model is 0.8928571428571429\n"
     ]
    }
   ],
   "source": [
    "from sklearn.tree import DecisionTreeClassifier\n",
    "\n",
    "dtc = DecisionTreeClassifier()\n",
    "dtc.fit(X_train, Y_train)\n",
    "\n",
    "y_pred = dtc.predict(X_test)\n",
    "\n",
    "dtc_train_acc = accuracy_score(Y_train, dtc.predict(X_train))\n",
    "dtc_test_acc = accuracy_score(Y_test, y_pred)\n",
    "\n",
    "print(f\"Training Accuracy of Decision Tree Model is {dtc_train_acc}\")\n",
    "print(f\"Test Accuracy of Decision Tree Model is {dtc_test_acc}\")"
   ]
  },
  {
   "cell_type": "code",
   "execution_count": 37,
   "id": "aac1ad98",
   "metadata": {
    "execution": {
     "iopub.execute_input": "2021-10-02T11:31:20.261640Z",
     "iopub.status.busy": "2021-10-02T11:31:20.261055Z",
     "iopub.status.idle": "2021-10-02T11:31:20.266467Z",
     "shell.execute_reply": "2021-10-02T11:31:20.266982Z",
     "shell.execute_reply.started": "2021-10-02T11:29:08.691492Z"
    },
    "papermill": {
     "duration": 0.086122,
     "end_time": "2021-10-02T11:31:20.267160",
     "exception": false,
     "start_time": "2021-10-02T11:31:20.181038",
     "status": "completed"
    },
    "tags": [],
    "pycharm": {
     "name": "#%%\n"
    }
   },
   "outputs": [
    {
     "data": {
      "text/plain": [
       "array([[44,  4],\n",
       "       [ 2,  6]], dtype=int64)"
      ]
     },
     "execution_count": 37,
     "metadata": {},
     "output_type": "execute_result"
    }
   ],
   "source": [
    "# confusion matrix\n",
    "confusion_matrix(Y_test, y_pred)"
   ]
  },
  {
   "cell_type": "code",
   "execution_count": 38,
   "id": "d08d9323",
   "metadata": {
    "execution": {
     "iopub.execute_input": "2021-10-02T11:31:20.425804Z",
     "iopub.status.busy": "2021-10-02T11:31:20.425214Z",
     "iopub.status.idle": "2021-10-02T11:31:20.433326Z",
     "shell.execute_reply": "2021-10-02T11:31:20.433818Z",
     "shell.execute_reply.started": "2021-10-02T11:29:08.701860Z"
    },
    "papermill": {
     "duration": 0.089446,
     "end_time": "2021-10-02T11:31:20.434006",
     "exception": false,
     "start_time": "2021-10-02T11:31:20.344560",
     "status": "completed"
    },
    "tags": [],
    "pycharm": {
     "name": "#%%\n"
    }
   },
   "outputs": [
    {
     "name": "stdout",
     "output_type": "stream",
     "text": [
      "              precision    recall  f1-score   support\n",
      "\n",
      "           0       0.96      0.92      0.94        48\n",
      "           1       0.60      0.75      0.67         8\n",
      "\n",
      "    accuracy                           0.89        56\n",
      "   macro avg       0.78      0.83      0.80        56\n",
      "weighted avg       0.91      0.89      0.90        56\n",
      "\n"
     ]
    }
   ],
   "source": [
    "# classification report\n",
    "print(classification_report(Y_test, y_pred))"
   ]
  },
  {
   "cell_type": "markdown",
   "id": "cbe964f2",
   "metadata": {
    "papermill": {
     "duration": 0.078879,
     "end_time": "2021-10-02T11:31:20.591732",
     "exception": false,
     "start_time": "2021-10-02T11:31:20.512853",
     "status": "completed"
    },
    "tags": [],
    "pycharm": {
     "name": "#%% md\n"
    }
   },
   "source": [
    "## **Hyper parameter tuning**"
   ]
  },
  {
   "cell_type": "code",
   "execution_count": 39,
   "id": "a621acca",
   "metadata": {
    "execution": {
     "iopub.execute_input": "2021-10-02T11:31:20.757308Z",
     "iopub.status.busy": "2021-10-02T11:31:20.753241Z",
     "iopub.status.idle": "2021-10-02T11:31:25.625608Z",
     "shell.execute_reply": "2021-10-02T11:31:25.626099Z",
     "shell.execute_reply.started": "2021-10-02T11:29:08.713809Z"
    },
    "papermill": {
     "duration": 4.954645,
     "end_time": "2021-10-02T11:31:25.626276",
     "exception": false,
     "start_time": "2021-10-02T11:31:20.671631",
     "status": "completed"
    },
    "tags": [],
    "pycharm": {
     "name": "#%%\n"
    }
   },
   "outputs": [
    {
     "name": "stdout",
     "output_type": "stream",
     "text": [
      "Fitting 5 folds for each of 512 candidates, totalling 2560 fits\n"
     ]
    },
    {
     "data": {
      "text/plain": [
       "GridSearchCV(cv=5, estimator=DecisionTreeClassifier(), n_jobs=-1,\n",
       "             param_grid={'criterion': ['gini', 'entropy'],\n",
       "                         'max_depth': [3, 5, 7, 10],\n",
       "                         'min_samples_leaf': range(2, 10),\n",
       "                         'min_samples_split': range(2, 10)},\n",
       "             verbose=1)"
      ]
     },
     "execution_count": 39,
     "metadata": {},
     "output_type": "execute_result"
    }
   ],
   "source": [
    "# hyper parameter tuning\n",
    "\n",
    "from sklearn.model_selection import GridSearchCV\n",
    "\n",
    "grid_params = {\n",
    "    'criterion' : ['gini', 'entropy'],\n",
    "    'max_depth' : [3, 5, 7, 10],\n",
    "    'min_samples_split' : range(2, 10, 1),\n",
    "    'min_samples_leaf' : range(2, 10, 1)\n",
    "}\n",
    "\n",
    "grid_search = GridSearchCV(dtc, grid_params, cv = 5, n_jobs = -1, verbose = 1)\n",
    "grid_search.fit(X_train, Y_train)"
   ]
  },
  {
   "cell_type": "code",
   "execution_count": 40,
   "id": "7be53270",
   "metadata": {
    "execution": {
     "iopub.execute_input": "2021-10-02T11:31:25.792604Z",
     "iopub.status.busy": "2021-10-02T11:31:25.790322Z",
     "iopub.status.idle": "2021-10-02T11:31:25.795880Z",
     "shell.execute_reply": "2021-10-02T11:31:25.796587Z",
     "shell.execute_reply.started": "2021-10-02T11:29:10.684282Z"
    },
    "papermill": {
     "duration": 0.089268,
     "end_time": "2021-10-02T11:31:25.796807",
     "exception": false,
     "start_time": "2021-10-02T11:31:25.707539",
     "status": "completed"
    },
    "tags": [],
    "pycharm": {
     "name": "#%%\n"
    }
   },
   "outputs": [
    {
     "name": "stdout",
     "output_type": "stream",
     "text": [
      "{'criterion': 'gini', 'max_depth': 5, 'min_samples_leaf': 6, 'min_samples_split': 3}\n",
      "0.8863636363636364\n"
     ]
    }
   ],
   "source": [
    "# best parameters and best score\n",
    "\n",
    "print(grid_search.best_params_)\n",
    "print(grid_search.best_score_)"
   ]
  },
  {
   "cell_type": "code",
   "execution_count": 41,
   "id": "761a5e27",
   "metadata": {
    "execution": {
     "iopub.execute_input": "2021-10-02T11:31:25.967299Z",
     "iopub.status.busy": "2021-10-02T11:31:25.966511Z",
     "iopub.status.idle": "2021-10-02T11:31:25.969662Z",
     "shell.execute_reply": "2021-10-02T11:31:25.970408Z",
     "shell.execute_reply.started": "2021-10-02T11:29:10.690391Z"
    },
    "papermill": {
     "duration": 0.092374,
     "end_time": "2021-10-02T11:31:25.970627",
     "exception": false,
     "start_time": "2021-10-02T11:31:25.878253",
     "status": "completed"
    },
    "tags": [],
    "pycharm": {
     "name": "#%%\n"
    }
   },
   "outputs": [
    {
     "name": "stdout",
     "output_type": "stream",
     "text": [
      "Training Accuracy of Decesion Tree Model is 0.9181818181818182\n",
      "Test Accuracy of Decesion Tree Model is 0.8928571428571429\n"
     ]
    }
   ],
   "source": [
    "dtc = grid_search.best_estimator_\n",
    "y_pred = dtc.predict(X_test)\n",
    "dtc_train_acc = accuracy_score(Y_train, dtc.predict(X_train))\n",
    "dtc_test_acc = accuracy_score(Y_test, y_pred)\n",
    "\n",
    "print(f\"Training Accuracy of Decesion Tree Model is {dtc_train_acc}\")\n",
    "print(f\"Test Accuracy of Decesion Tree Model is {dtc_test_acc}\")"
   ]
  },
  {
   "cell_type": "markdown",
   "id": "4627663b",
   "metadata": {
    "papermill": {
     "duration": 0.081609,
     "end_time": "2021-10-02T11:31:26.135313",
     "exception": false,
     "start_time": "2021-10-02T11:31:26.053704",
     "status": "completed"
    },
    "tags": [],
    "pycharm": {
     "name": "#%% md\n"
    }
   },
   "source": [
    "**Visualization the DTC tree.**"
   ]
  },
  {
   "cell_type": "code",
   "execution_count": 42,
   "id": "1a0fdc3f",
   "metadata": {
    "execution": {
     "iopub.execute_input": "2021-10-02T11:31:26.368686Z",
     "iopub.status.busy": "2021-10-02T11:31:26.368018Z",
     "iopub.status.idle": "2021-10-02T11:31:28.017448Z",
     "shell.execute_reply": "2021-10-02T11:31:28.017970Z",
     "shell.execute_reply.started": "2021-10-02T11:29:10.702591Z"
    },
    "papermill": {
     "duration": 1.80162,
     "end_time": "2021-10-02T11:31:28.018149",
     "exception": false,
     "start_time": "2021-10-02T11:31:26.216529",
     "status": "completed"
    },
    "tags": [],
    "pycharm": {
     "name": "#%%\n"
    }
   },
   "outputs": [
    {
     "data": {
      "text/plain": [
       "[Text(0.66875, 0.9166666666666666, 'X[8] <= -0.073\\ngini = 0.236\\nsamples = 220\\nvalue = [190, 30]'),\n",
       " Text(0.4375, 0.75, 'X[13] <= 0.055\\ngini = 0.38\\nsamples = 102\\nvalue = [76, 26]'),\n",
       " Text(0.225, 0.5833333333333334, 'X[7] <= -0.283\\ngini = 0.487\\nsamples = 50\\nvalue = [29, 21]'),\n",
       " Text(0.1, 0.4166666666666667, 'X[6] <= -0.055\\ngini = 0.475\\nsamples = 18\\nvalue = [7, 11]'),\n",
       " Text(0.05, 0.25, 'gini = 0.346\\nsamples = 9\\nvalue = [2, 7]'),\n",
       " Text(0.15, 0.25, 'gini = 0.494\\nsamples = 9\\nvalue = [5, 4]'),\n",
       " Text(0.35, 0.4166666666666667, 'X[3] <= -0.175\\ngini = 0.43\\nsamples = 32\\nvalue = [22, 10]'),\n",
       " Text(0.25, 0.25, 'X[10] <= -0.138\\ngini = 0.499\\nsamples = 19\\nvalue = [10, 9]'),\n",
       " Text(0.2, 0.08333333333333333, 'gini = 0.426\\nsamples = 13\\nvalue = [4, 9]'),\n",
       " Text(0.3, 0.08333333333333333, 'gini = 0.0\\nsamples = 6\\nvalue = [6, 0]'),\n",
       " Text(0.45, 0.25, 'X[1] <= 0.249\\ngini = 0.142\\nsamples = 13\\nvalue = [12, 1]'),\n",
       " Text(0.4, 0.08333333333333333, 'gini = 0.278\\nsamples = 6\\nvalue = [5, 1]'),\n",
       " Text(0.5, 0.08333333333333333, 'gini = 0.0\\nsamples = 7\\nvalue = [7, 0]'),\n",
       " Text(0.65, 0.5833333333333334, 'X[5] <= -0.009\\ngini = 0.174\\nsamples = 52\\nvalue = [47, 5]'),\n",
       " Text(0.6, 0.4166666666666667, 'X[9] <= -0.128\\ngini = 0.415\\nsamples = 17\\nvalue = [12, 5]'),\n",
       " Text(0.55, 0.25, 'gini = 0.444\\nsamples = 6\\nvalue = [2, 4]'),\n",
       " Text(0.65, 0.25, 'gini = 0.165\\nsamples = 11\\nvalue = [10, 1]'),\n",
       " Text(0.7, 0.4166666666666667, 'gini = 0.0\\nsamples = 35\\nvalue = [35, 0]'),\n",
       " Text(0.9, 0.75, 'X[3] <= -0.175\\ngini = 0.065\\nsamples = 118\\nvalue = [114, 4]'),\n",
       " Text(0.85, 0.5833333333333334, 'X[2] <= -0.055\\ngini = 0.126\\nsamples = 59\\nvalue = [55, 4]'),\n",
       " Text(0.8, 0.4166666666666667, 'gini = 0.0\\nsamples = 23\\nvalue = [23, 0]'),\n",
       " Text(0.9, 0.4166666666666667, 'X[1] <= 0.79\\ngini = 0.198\\nsamples = 36\\nvalue = [32, 4]'),\n",
       " Text(0.85, 0.25, 'X[1] <= 0.069\\ngini = 0.26\\nsamples = 26\\nvalue = [22, 4]'),\n",
       " Text(0.8, 0.08333333333333333, 'gini = 0.18\\nsamples = 20\\nvalue = [18, 2]'),\n",
       " Text(0.9, 0.08333333333333333, 'gini = 0.444\\nsamples = 6\\nvalue = [4, 2]'),\n",
       " Text(0.95, 0.25, 'gini = 0.0\\nsamples = 10\\nvalue = [10, 0]'),\n",
       " Text(0.95, 0.5833333333333334, 'gini = 0.0\\nsamples = 59\\nvalue = [59, 0]')]"
      ]
     },
     "execution_count": 42,
     "metadata": {},
     "output_type": "execute_result"
    },
    {
     "data": {
      "image/png": "[encoded data removed]",
      "text/plain": [
       "<Figure size 1080x720 with 1 Axes>"
      ]
     },
     "metadata": {
      "needs_background": "light"
     },
     "output_type": "display_data"
    }
   ],
   "source": [
    "from sklearn import tree\n",
    "plt.figure(figsize=(15,10))\n",
    "tree.plot_tree(dtc,filled=True)"
   ]
  },
  {
   "cell_type": "code",
   "execution_count": 43,
   "id": "ea6d6947",
   "metadata": {
    "pycharm": {
     "name": "#%%\n"
    }
   },
   "outputs": [
    {
     "data": {
      "text/plain": [
       "Index(['GENDER', 'AGE', 'SMOKING', 'YELLOW_FINGERS', 'ANXIETY',\n",
       "       'PEER_PRESSURE', 'CHRONIC DISEASE', 'FATIGUE ', 'ALLERGY ', 'WHEEZING',\n",
       "       'ALCOHOL CONSUMING', 'COUGHING', 'SHORTNESS OF BREATH',\n",
       "       'SWALLOWING DIFFICULTY', 'CHEST PAIN', 'LUNG_CANCER'],\n",
       "      dtype='object')"
      ]
     },
     "execution_count": 43,
     "metadata": {},
     "output_type": "execute_result"
    }
   ],
   "source": [
    "data.columns"
   ]
  },
  {
   "cell_type": "markdown",
   "id": "3ea0ba11",
   "metadata": {
    "papermill": {
     "duration": 0.084498,
     "end_time": "2021-10-02T11:31:28.187573",
     "exception": false,
     "start_time": "2021-10-02T11:31:28.103075",
     "status": "completed"
    },
    "tags": [],
    "pycharm": {
     "name": "#%% md\n"
    }
   },
   "source": [
    "## **Random Forest Classifier**"
   ]
  },
  {
   "cell_type": "code",
   "execution_count": 44,
   "id": "973d674a",
   "metadata": {
    "execution": {
     "iopub.execute_input": "2021-10-02T11:31:28.363686Z",
     "iopub.status.busy": "2021-10-02T11:31:28.362882Z",
     "iopub.status.idle": "2021-10-02T11:31:28.743171Z",
     "shell.execute_reply": "2021-10-02T11:31:28.743904Z",
     "shell.execute_reply.started": "2021-10-02T11:29:12.173982Z"
    },
    "papermill": {
     "duration": 0.471868,
     "end_time": "2021-10-02T11:31:28.744148",
     "exception": false,
     "start_time": "2021-10-02T11:31:28.272280",
     "status": "completed"
    },
    "tags": [],
    "pycharm": {
     "name": "#%%\n"
    }
   },
   "outputs": [
    {
     "name": "stdout",
     "output_type": "stream",
     "text": [
      "Training Accuracy of Random Forest Model is 0.8636363636363636\n",
      "Test Accuracy of Random Forest Model is 0.8571428571428571\n"
     ]
    }
   ],
   "source": [
    "from sklearn.ensemble import RandomForestClassifier\n",
    "\n",
    "rand_clf = RandomForestClassifier(criterion = 'gini', max_depth = 3, max_features = 'sqrt', min_samples_leaf = 2, min_samples_split = 4, n_estimators = 180)\n",
    "rand_clf.fit(X_train, Y_train)\n",
    "\n",
    "y_pred = rand_clf.predict(X_test)\n",
    "\n",
    "rand_clf_train_acc = accuracy_score(Y_train, rand_clf.predict(X_train))\n",
    "rand_clf_test_acc = accuracy_score(Y_test, y_pred)\n",
    "\n",
    "print(f\"Training Accuracy of Random Forest Model is {rand_clf_train_acc}\")\n",
    "print(f\"Test Accuracy of Random Forest Model is {rand_clf_test_acc}\")"
   ]
  },
  {
   "cell_type": "markdown",
   "id": "4372b6c1",
   "metadata": {
    "papermill": {
     "duration": 0.084613,
     "end_time": "2021-10-02T11:31:28.914226",
     "exception": false,
     "start_time": "2021-10-02T11:31:28.829613",
     "status": "completed"
    },
    "tags": [],
    "pycharm": {
     "name": "#%% md\n"
    }
   },
   "source": [
    "## **KNN**"
   ]
  },
  {
   "cell_type": "code",
   "execution_count": 45,
   "id": "12b18a3f",
   "metadata": {
    "execution": {
     "iopub.execute_input": "2021-10-02T11:31:29.096136Z",
     "iopub.status.busy": "2021-10-02T11:31:29.095224Z",
     "iopub.status.idle": "2021-10-02T11:31:29.115767Z",
     "shell.execute_reply": "2021-10-02T11:31:29.116646Z",
     "shell.execute_reply.started": "2021-10-02T11:29:12.447549Z"
    },
    "papermill": {
     "duration": 0.116222,
     "end_time": "2021-10-02T11:31:29.116965",
     "exception": false,
     "start_time": "2021-10-02T11:31:29.000743",
     "status": "completed"
    },
    "tags": [],
    "pycharm": {
     "name": "#%%\n"
    }
   },
   "outputs": [
    {
     "name": "stdout",
     "output_type": "stream",
     "text": [
      "Accuracy on training data  :  0.8863636363636364\n",
      "Accuracy on test data      :  0.8928571428571429\n"
     ]
    }
   ],
   "source": [
    "from sklearn.neighbors import KNeighborsClassifier\n",
    "k_model = KNeighborsClassifier(n_neighbors=16)\n",
    "kfitModel = k_model.fit(X_train, Y_train)\n",
    "\n",
    "# accuracy score on training data\n",
    "\n",
    "kX_train_prediction = kfitModel.predict(X_train)\n",
    "training_data_accuray = accuracy_score(kX_train_prediction,Y_train)\n",
    "print('Accuracy on training data  : ', training_data_accuray)\n",
    "\n",
    "# accuracy score on testing data\n",
    "kX_test_prediction = kfitModel.predict(X_test)\n",
    "kx_lgr_test_data_accuray = accuracy_score(kX_test_prediction,Y_test)\n",
    "print('Accuracy on test data      : ', kx_lgr_test_data_accuray)"
   ]
  },
  {
   "cell_type": "markdown",
   "id": "cb053f68",
   "metadata": {
    "papermill": {
     "duration": 0.090846,
     "end_time": "2021-10-02T11:31:55.714844",
     "exception": false,
     "start_time": "2021-10-02T11:31:55.623998",
     "status": "completed"
    },
    "tags": [],
    "pycharm": {
     "name": "#%% md\n"
    }
   },
   "source": [
    "## **GradientBoostingClassifier**"
   ]
  },
  {
   "cell_type": "code",
   "execution_count": 46,
   "id": "658f1c0d",
   "metadata": {
    "execution": {
     "iopub.execute_input": "2021-10-02T11:31:55.904493Z",
     "iopub.status.busy": "2021-10-02T11:31:55.903591Z",
     "iopub.status.idle": "2021-10-02T11:32:03.863098Z",
     "shell.execute_reply": "2021-10-02T11:32:03.863549Z",
     "shell.execute_reply.started": "2021-10-02T11:29:34.469690Z"
    },
    "papermill": {
     "duration": 8.057705,
     "end_time": "2021-10-02T11:32:03.863723",
     "exception": false,
     "start_time": "2021-10-02T11:31:55.806018",
     "status": "completed"
    },
    "tags": [],
    "pycharm": {
     "name": "#%%\n"
    }
   },
   "outputs": [
    {
     "name": "stdout",
     "output_type": "stream",
     "text": [
      "Fitting 5 folds for each of 32 candidates, totalling 160 fits\n"
     ]
    },
    {
     "data": {
      "text/plain": [
       "GridSearchCV(cv=5, estimator=GradientBoostingClassifier(), n_jobs=-1,\n",
       "             param_grid={'learning_rate': [0.001, 0.1, 1, 10],\n",
       "                         'loss': ['deviance', 'exponential'],\n",
       "                         'n_estimators': [100, 150, 180, 200]},\n",
       "             verbose=1)"
      ]
     },
     "execution_count": 46,
     "metadata": {},
     "output_type": "execute_result"
    }
   ],
   "source": [
    "#Gradient Boosting Classifier\n",
    "from sklearn.ensemble import GradientBoostingClassifier\n",
    "\n",
    "gb = GradientBoostingClassifier()\n",
    "\n",
    "parameters = {\n",
    "    'loss': ['deviance', 'exponential'],\n",
    "    'learning_rate': [0.001, 0.1, 1, 10],\n",
    "    'n_estimators': [100, 150, 180, 200]\n",
    "}\n",
    "\n",
    "grid_search = GridSearchCV(gb, parameters, cv = 5, n_jobs = -1, verbose = 1)\n",
    "grid_search.fit(X_train, Y_train)"
   ]
  },
  {
   "cell_type": "code",
   "execution_count": 47,
   "id": "26a024cf",
   "metadata": {
    "execution": {
     "iopub.execute_input": "2021-10-02T11:32:04.055683Z",
     "iopub.status.busy": "2021-10-02T11:32:04.054909Z",
     "iopub.status.idle": "2021-10-02T11:32:04.058712Z",
     "shell.execute_reply": "2021-10-02T11:32:04.058223Z",
     "shell.execute_reply.started": "2021-10-02T11:29:41.731406Z"
    },
    "papermill": {
     "duration": 0.102348,
     "end_time": "2021-10-02T11:32:04.058848",
     "exception": false,
     "start_time": "2021-10-02T11:32:03.956500",
     "status": "completed"
    },
    "tags": [],
    "pycharm": {
     "name": "#%%\n"
    }
   },
   "outputs": [
    {
     "name": "stdout",
     "output_type": "stream",
     "text": [
      "{'learning_rate': 0.1, 'loss': 'exponential', 'n_estimators': 100}\n",
      "0.8727272727272727\n"
     ]
    }
   ],
   "source": [
    "# best parameter and best score\n",
    "\n",
    "print(grid_search.best_params_)\n",
    "print(grid_search.best_score_)\n"
   ]
  },
  {
   "cell_type": "code",
   "execution_count": 48,
   "id": "63c57a7c",
   "metadata": {
    "execution": {
     "iopub.execute_input": "2021-10-02T11:32:04.252226Z",
     "iopub.status.busy": "2021-10-02T11:32:04.251103Z",
     "iopub.status.idle": "2021-10-02T11:32:04.423453Z",
     "shell.execute_reply": "2021-10-02T11:32:04.422809Z",
     "shell.execute_reply.started": "2021-10-02T11:29:41.738062Z"
    },
    "papermill": {
     "duration": 0.272347,
     "end_time": "2021-10-02T11:32:04.423589",
     "exception": false,
     "start_time": "2021-10-02T11:32:04.151242",
     "status": "completed"
    },
    "tags": [],
    "pycharm": {
     "name": "#%%\n"
    }
   },
   "outputs": [
    {
     "name": "stdout",
     "output_type": "stream",
     "text": [
      "Training Accuracy of Gradient Boosting Classifier Model is 0.9954545454545455\n",
      "Test Accuracy of Gradient Boosting Classifier Model is 0.9107142857142857\n"
     ]
    }
   ],
   "source": [
    "gb = GradientBoostingClassifier(learning_rate = 1, loss = 'exponential', n_estimators = 180)\n",
    "gb.fit(X_train, Y_train)\n",
    "\n",
    "y_pred = gb.predict(X_test)\n",
    "\n",
    "gb_train_acc = accuracy_score(Y_train, gb.predict(X_train))\n",
    "gb_test_acc = accuracy_score(Y_test, y_pred)\n",
    "\n",
    "print(f\"Training Accuracy of Gradient Boosting Classifier Model is {gb_train_acc}\")\n",
    "print(f\"Test Accuracy of Gradient Boosting Classifier Model is {gb_test_acc}\")"
   ]
  },
  {
   "cell_type": "code",
   "execution_count": 49,
   "id": "54d1d576",
   "metadata": {
    "execution": {
     "iopub.execute_input": "2021-10-02T11:32:04.613696Z",
     "iopub.status.busy": "2021-10-02T11:32:04.612852Z",
     "iopub.status.idle": "2021-10-02T11:32:04.616576Z",
     "shell.execute_reply": "2021-10-02T11:32:04.615992Z",
     "shell.execute_reply.started": "2021-10-02T11:29:41.886551Z"
    },
    "papermill": {
     "duration": 0.100659,
     "end_time": "2021-10-02T11:32:04.616706",
     "exception": false,
     "start_time": "2021-10-02T11:32:04.516047",
     "status": "completed"
    },
    "tags": [],
    "pycharm": {
     "name": "#%%\n"
    }
   },
   "outputs": [
    {
     "data": {
      "text/plain": [
       "array([[47,  1],\n",
       "       [ 4,  4]], dtype=int64)"
      ]
     },
     "execution_count": 49,
     "metadata": {},
     "output_type": "execute_result"
    }
   ],
   "source": [
    "# confusion matrix\n",
    "\n",
    "confusion_matrix(Y_test, y_pred)"
   ]
  },
  {
   "cell_type": "code",
   "execution_count": 50,
   "id": "221dbe1e",
   "metadata": {
    "execution": {
     "iopub.execute_input": "2021-10-02T11:32:04.810101Z",
     "iopub.status.busy": "2021-10-02T11:32:04.808478Z",
     "iopub.status.idle": "2021-10-02T11:32:04.817021Z",
     "shell.execute_reply": "2021-10-02T11:32:04.817908Z",
     "shell.execute_reply.started": "2021-10-02T11:29:41.894838Z"
    },
    "papermill": {
     "duration": 0.107779,
     "end_time": "2021-10-02T11:32:04.818207",
     "exception": false,
     "start_time": "2021-10-02T11:32:04.710428",
     "status": "completed"
    },
    "tags": [],
    "pycharm": {
     "name": "#%%\n"
    }
   },
   "outputs": [
    {
     "name": "stdout",
     "output_type": "stream",
     "text": [
      "              precision    recall  f1-score   support\n",
      "\n",
      "           0       0.92      0.98      0.95        48\n",
      "           1       0.80      0.50      0.62         8\n",
      "\n",
      "    accuracy                           0.91        56\n",
      "   macro avg       0.86      0.74      0.78        56\n",
      "weighted avg       0.90      0.91      0.90        56\n",
      "\n"
     ]
    }
   ],
   "source": [
    "# classification report\n",
    "\n",
    "print(classification_report(Y_test, y_pred))"
   ]
  },
  {
   "cell_type": "markdown",
   "id": "29acc25d",
   "metadata": {
    "papermill": {
     "duration": 0.094352,
     "end_time": "2021-10-02T11:32:06.829186",
     "exception": false,
     "start_time": "2021-10-02T11:32:06.734834",
     "status": "completed"
    },
    "tags": [],
    "pycharm": {
     "name": "#%% md\n"
    }
   },
   "source": [
    "## **XGB Classifier**"
   ]
  },
  {
   "cell_type": "code",
   "execution_count": 51,
   "id": "4b18200f",
   "metadata": {
    "execution": {
     "iopub.execute_input": "2021-10-02T11:32:07.027709Z",
     "iopub.status.busy": "2021-10-02T11:32:07.027060Z",
     "iopub.status.idle": "2021-10-02T11:32:07.135651Z",
     "shell.execute_reply": "2021-10-02T11:32:07.137127Z",
     "shell.execute_reply.started": "2021-10-02T11:29:42.088476Z"
    },
    "papermill": {
     "duration": 0.212621,
     "end_time": "2021-10-02T11:32:07.137371",
     "exception": false,
     "start_time": "2021-10-02T11:32:06.924750",
     "status": "completed"
    },
    "tags": [],
    "pycharm": {
     "name": "#%%\n"
    }
   },
   "outputs": [
    {
     "name": "stderr",
     "output_type": "stream",
     "text": [
      "C:\\Users\\Asus\\AppData\\Roaming\\Python\\Python38\\site-packages\\xgboost\\sklearn.py:1224: UserWarning: The use of label encoder in XGBClassifier is deprecated and will be removed in a future release. To remove this warning, do the following: 1) Pass option use_label_encoder=False when constructing XGBClassifier object; and 2) Encode your labels (y) as integers starting with 0, i.e. 0, 1, 2, ..., [num_class - 1].\n",
      "  warnings.warn(label_encoder_deprecation_msg, UserWarning)\n"
     ]
    },
    {
     "name": "stdout",
     "output_type": "stream",
     "text": [
      "[21:18:31] WARNING: C:/Users/Administrator/workspace/xgboost-win64_release_1.5.1/src/learner.cc:1115: Starting in XGBoost 1.3.0, the default evaluation metric used with the objective 'binary:logistic' was changed from 'error' to 'logloss'. Explicitly set eval_metric if you'd like to restore the old behavior.\n",
      "Training Accuracy of XGB Model is 0.9363636363636364\n",
      "Test Accuracy of XGB Model is 0.9285714285714286\n"
     ]
    }
   ],
   "source": [
    "from xgboost import XGBClassifier\n",
    "\n",
    "xgb = XGBClassifier(booster = 'gblinear', learning_rate = 1, n_estimators = 10)\n",
    "xgb.fit(X_train, Y_train)\n",
    "\n",
    "y_pred = xgb.predict(X_test)\n",
    "\n",
    "xgb_train_acc = accuracy_score(Y_train, xgb.predict(X_train))\n",
    "xgb_test_acc = accuracy_score(Y_test, y_pred)\n",
    "\n",
    "print(f\"Training Accuracy of XGB Model is {xgb_train_acc}\")\n",
    "print(f\"Test Accuracy of XGB Model is {xgb_test_acc}\")"
   ]
  },
  {
   "cell_type": "code",
   "execution_count": 52,
   "id": "f72d0991",
   "metadata": {
    "execution": {
     "iopub.execute_input": "2021-10-02T11:32:10.273645Z",
     "iopub.status.busy": "2021-10-02T11:32:10.273002Z",
     "iopub.status.idle": "2021-10-02T11:32:10.292150Z",
     "shell.execute_reply": "2021-10-02T11:32:10.292626Z",
     "shell.execute_reply.started": "2021-10-02T11:29:42.409354Z"
    },
    "papermill": {
     "duration": 0.122791,
     "end_time": "2021-10-02T11:32:10.292791",
     "exception": false,
     "start_time": "2021-10-02T11:32:10.170000",
     "status": "completed"
    },
    "tags": [],
    "pycharm": {
     "name": "#%%\n"
    }
   },
   "outputs": [
    {
     "data": {
      "text/html": [
       "<div>\n",
       "<style scoped>\n",
       "    .dataframe tbody tr th:only-of-type {\n",
       "        vertical-align: middle;\n",
       "    }\n",
       "\n",
       "    .dataframe tbody tr th {\n",
       "        vertical-align: top;\n",
       "    }\n",
       "\n",
       "    .dataframe thead th {\n",
       "        text-align: right;\n",
       "    }\n",
       "</style>\n",
       "<table border=\"1\" class=\"dataframe\">\n",
       "  <thead>\n",
       "    <tr style=\"text-align: right;\">\n",
       "      <th></th>\n",
       "      <th>Model</th>\n",
       "      <th>Score</th>\n",
       "    </tr>\n",
       "  </thead>\n",
       "  <tbody>\n",
       "    <tr>\n",
       "      <th>0</th>\n",
       "      <td>Logistic Regression</td>\n",
       "      <td>0.946429</td>\n",
       "    </tr>\n",
       "    <tr>\n",
       "      <th>6</th>\n",
       "      <td>XgBoost</td>\n",
       "      <td>0.928571</td>\n",
       "    </tr>\n",
       "    <tr>\n",
       "      <th>2</th>\n",
       "      <td>SVC</td>\n",
       "      <td>0.910714</td>\n",
       "    </tr>\n",
       "    <tr>\n",
       "      <th>5</th>\n",
       "      <td>Gradient Boosting</td>\n",
       "      <td>0.910714</td>\n",
       "    </tr>\n",
       "    <tr>\n",
       "      <th>1</th>\n",
       "      <td>KNN</td>\n",
       "      <td>0.892857</td>\n",
       "    </tr>\n",
       "    <tr>\n",
       "      <th>3</th>\n",
       "      <td>Decision Tree</td>\n",
       "      <td>0.892857</td>\n",
       "    </tr>\n",
       "    <tr>\n",
       "      <th>4</th>\n",
       "      <td>Random Forest</td>\n",
       "      <td>0.857143</td>\n",
       "    </tr>\n",
       "  </tbody>\n",
       "</table>\n",
       "</div>"
      ],
      "text/plain": [
       "                 Model     Score\n",
       "0  Logistic Regression  0.946429\n",
       "6              XgBoost  0.928571\n",
       "2                  SVC  0.910714\n",
       "5    Gradient Boosting  0.910714\n",
       "1                  KNN  0.892857\n",
       "3        Decision Tree  0.892857\n",
       "4        Random Forest  0.857143"
      ]
     },
     "execution_count": 52,
     "metadata": {},
     "output_type": "execute_result"
    }
   ],
   "source": [
    "models = ['Logistic Regression', 'KNN', 'SVC', 'Decision Tree', 'Random Forest', 'Gradient Boosting', 'XgBoost']\n",
    "scores = [lr_test_acc, knn_test_acc, svc_test_acc, dtc_test_acc, rand_clf_test_acc, gb_test_acc, xgb_test_acc]\n",
    "\n",
    "models = pd.DataFrame({'Model' : models, 'Score' : scores})\n",
    "\n",
    "\n",
    "models.sort_values(by = 'Score', ascending = False)"
   ]
  },
  {
   "cell_type": "code",
   "execution_count": 53,
   "id": "3155b684",
   "metadata": {
    "execution": {
     "iopub.execute_input": "2021-10-02T11:32:10.496956Z",
     "iopub.status.busy": "2021-10-02T11:32:10.496256Z",
     "iopub.status.idle": "2021-10-02T11:32:10.722890Z",
     "shell.execute_reply": "2021-10-02T11:32:10.722396Z",
     "shell.execute_reply.started": "2021-10-02T11:29:42.423665Z"
    },
    "papermill": {
     "duration": 0.330856,
     "end_time": "2021-10-02T11:32:10.723072",
     "exception": false,
     "start_time": "2021-10-02T11:32:10.392216",
     "status": "completed"
    },
    "tags": [],
    "pycharm": {
     "name": "#%%\n"
    }
   },
   "outputs": [
    {
     "data": {
      "image/png": "[encoded data removed]",
      "text/plain": [
       "<Figure size 1296x576 with 1 Axes>"
      ]
     },
     "metadata": {
      "needs_background": "light"
     },
     "output_type": "display_data"
    }
   ],
   "source": [
    "plt.figure(figsize = (18, 8))\n",
    "\n",
    "sns.barplot(x = 'Model', y = 'Score', data = models)\n",
    "plt.show()"
   ]
  },
  {
   "cell_type": "markdown",
   "id": "95503ccf",
   "metadata": {
    "papermill": {
     "duration": 0.098307,
     "end_time": "2021-10-02T11:32:10.921409",
     "exception": false,
     "start_time": "2021-10-02T11:32:10.823102",
     "status": "completed"
    },
    "tags": [],
    "pycharm": {
     "name": "#%% md\n"
    }
   },
   "source": [
    "### ***Logistic Regression gives us the best result so we will save this model for production.***"
   ]
  },
  {
   "cell_type": "code",
   "execution_count": 54,
   "id": "d2e6af5f",
   "metadata": {
    "pycharm": {
     "name": "#%%\n"
    }
   },
   "outputs": [],
   "source": [
    "import pickle"
   ]
  },
  {
   "cell_type": "code",
   "execution_count": 55,
   "id": "bc8c4b10",
   "metadata": {
    "pycharm": {
     "name": "#%%\n"
    }
   },
   "outputs": [],
   "source": [
    "# save the model to disk\n",
    "filename = 'LungCancer_model.sav'\n",
    "pickle.dump(models, open(filename, 'wb'))\n"
   ]
  },
  {
   "cell_type": "code",
   "execution_count": 56,
   "id": "50b525b0",
   "metadata": {
    "pycharm": {
     "name": "#%%\n"
    }
   },
   "outputs": [
    {
     "data": {
      "text/html": [
       "<div>\n",
       "<style scoped>\n",
       "    .dataframe tbody tr th:only-of-type {\n",
       "        vertical-align: middle;\n",
       "    }\n",
       "\n",
       "    .dataframe tbody tr th {\n",
       "        vertical-align: top;\n",
       "    }\n",
       "\n",
       "    .dataframe thead th {\n",
       "        text-align: right;\n",
       "    }\n",
       "</style>\n",
       "<table border=\"1\" class=\"dataframe\">\n",
       "  <thead>\n",
       "    <tr style=\"text-align: right;\">\n",
       "      <th></th>\n",
       "      <th>Model</th>\n",
       "      <th>Score</th>\n",
       "    </tr>\n",
       "  </thead>\n",
       "  <tbody>\n",
       "    <tr>\n",
       "      <th>0</th>\n",
       "      <td>Logistic Regression</td>\n",
       "      <td>0.946429</td>\n",
       "    </tr>\n",
       "    <tr>\n",
       "      <th>1</th>\n",
       "      <td>KNN</td>\n",
       "      <td>0.892857</td>\n",
       "    </tr>\n",
       "    <tr>\n",
       "      <th>2</th>\n",
       "      <td>SVC</td>\n",
       "      <td>0.910714</td>\n",
       "    </tr>\n",
       "    <tr>\n",
       "      <th>3</th>\n",
       "      <td>Decision Tree</td>\n",
       "      <td>0.892857</td>\n",
       "    </tr>\n",
       "    <tr>\n",
       "      <th>4</th>\n",
       "      <td>Random Forest</td>\n",
       "      <td>0.857143</td>\n",
       "    </tr>\n",
       "    <tr>\n",
       "      <th>5</th>\n",
       "      <td>Gradient Boosting</td>\n",
       "      <td>0.910714</td>\n",
       "    </tr>\n",
       "    <tr>\n",
       "      <th>6</th>\n",
       "      <td>XgBoost</td>\n",
       "      <td>0.928571</td>\n",
       "    </tr>\n",
       "  </tbody>\n",
       "</table>\n",
       "</div>"
      ],
      "text/plain": [
       "                 Model     Score\n",
       "0  Logistic Regression  0.946429\n",
       "1                  KNN  0.892857\n",
       "2                  SVC  0.910714\n",
       "3        Decision Tree  0.892857\n",
       "4        Random Forest  0.857143\n",
       "5    Gradient Boosting  0.910714\n",
       "6              XgBoost  0.928571"
      ]
     },
     "execution_count": 56,
     "metadata": {},
     "output_type": "execute_result"
    }
   ],
   "source": [
    "# load the model from disk\n",
    "loaded_model = pickle.load(open(filename, 'rb'))\n",
    "loaded_model"
   ]
  },
  {
   "cell_type": "markdown",
   "id": "c192307e",
   "metadata": {
    "pycharm": {
     "name": "#%% md\n"
    }
   },
   "source": [
    "## Create Pickle File for Logistic Regression Model"
   ]
  },
  {
   "cell_type": "code",
   "execution_count": 59,
   "id": "bbcf863d",
   "metadata": {
    "scrolled": true,
    "pycharm": {
     "name": "#%%\n"
    }
   },
   "outputs": [],
   "source": [
    "import pickle\n",
    "# open a file, where you ant to store the data\n",
    "file = open('Lung_Cancer.pkl', 'wb')\n",
    "\n",
    "# dump information to that file\n",
    "pickle.dump(lr, file)  #Selecting Logistic Regression as the Model because of Giving highest Accuracy"
   ]
  },
  {
   "cell_type": "code",
   "execution_count": 65,
   "id": "c5a781c1",
   "metadata": {
    "pycharm": {
     "name": "#%%\n"
    }
   },
   "outputs": [],
   "source": [
    "#Reading the Pickle file for to certify model was imported Successfully\n",
    "model = open('Lung_Cancer.pkl','rb')\n",
    "logistic= pickle.load(model)"
   ]
  },
  {
   "cell_type": "code",
   "execution_count": 67,
   "id": "ff028558",
   "metadata": {
    "pycharm": {
     "name": "#%%\n"
    }
   },
   "outputs": [],
   "source": [
    "# Prediction Parameters testing using the imported Model\n",
    "y_prediction = logistic.predict(X_test)"
   ]
  },
  {
   "cell_type": "code",
   "execution_count": 69,
   "id": "c6ba43cf",
   "metadata": {
    "scrolled": true,
    "pycharm": {
     "name": "#%%\n"
    }
   },
   "outputs": [],
   "source": [
    "lr_acc = accuracy_score(Y_test, y_prediction)"
   ]
  },
  {
   "cell_type": "code",
   "execution_count": 64,
   "id": "827d18bb",
   "metadata": {
    "pycharm": {
     "name": "#%%\n"
    }
   },
   "outputs": [
    {
     "data": {
      "text/plain": [
       "0.9464285714285714"
      ]
     },
     "execution_count": 64,
     "metadata": {},
     "output_type": "execute_result"
    }
   ],
   "source": [
    "lr_acc"
   ]
  },
  {
   "cell_type": "markdown",
   "id": "1bcf162f",
   "metadata": {
    "pycharm": {
     "name": "#%% md\n"
    }
   },
   "source": [
    "**So this will Verify that Our Imported Pickle file provides the desired out put for the Lung Cancer Dataset for Prdiction Purpose**"
   ]
  },
  {
   "cell_type": "code",
   "execution_count": 85,
   "id": "d9d68f73",
   "metadata": {
    "pycharm": {
     "name": "#%%\n"
    }
   },
   "outputs": [],
   "source": [
    "## Example for Predicting the Lung Cancer\n",
    "import numpy as np\n",
    "\n",
    "X_New = [0,45,0,1,1,0,0,0,1,0,0,1,1,0,0] #Non Lung Cancer Patinet \n",
    "X_New = np.reshape(X_New, (1, -1))\n",
    "\n",
    "y_New = logistic.predict(X_New)\n",
    "\n",
    "\n",
    "#Lung Cancer Patinet \n",
    "X_2 = [0,55,0,1,1,1,1,2,1,1,2,1,1,2,2] \n",
    "X_2 = np.reshape(X_2, (1, -1))\n",
    "\n",
    "y_2 = logistic.predict(X_2)"
   ]
  },
  {
   "cell_type": "code",
   "execution_count": 86,
   "id": "c6933519",
   "metadata": {
    "pycharm": {
     "name": "#%%\n"
    }
   },
   "outputs": [
    {
     "name": "stdout",
     "output_type": "stream",
     "text": [
      "Patinet Doesn't Have Lung Cancer\n"
     ]
    }
   ],
   "source": [
    "if y_New == 0:\n",
    "    print(\"Patinet Has Lung Cancer\")\n",
    "else:\n",
    "    print(\"Patinet Doesn't Got Lung Cancer\")"
   ]
  },
  {
   "cell_type": "code",
   "execution_count": 88,
   "id": "58d8cfa5",
   "metadata": {
    "pycharm": {
     "name": "#%%\n"
    }
   },
   "outputs": [
    {
     "name": "stdout",
     "output_type": "stream",
     "text": [
      "Patinet Have Lung Cancer\n"
     ]
    }
   ],
   "source": [
    "if y_2 == 0:\n",
    "    print(\"Patinet Have Lung Cancer\")\n",
    "else:\n",
    "    print(\"Patinet Doesn't Got Lung Cancer\")"
   ]
  },
  {
   "cell_type": "code",
   "execution_count": null,
   "id": "13825006",
   "metadata": {
    "pycharm": {
     "name": "#%%\n"
    }
   },
   "outputs": [],
   "source": []
  }
 ],
 "metadata": {
  "kernelspec": {
   "display_name": "Python 3",
   "language": "python",
   "name": "python3"
  },
  "language_info": {
   "codemirror_mode": {
    "name": "ipython",
    "version": 3
   },
   "file_extension": ".py",
   "mimetype": "text/x-python",
   "name": "python",
   "nbconvert_exporter": "python",
   "pygments_lexer": "ipython3",
   "version": "3.8.8"
  },
  "papermill": {
   "default_parameters": {},
   "duration": 69.887407,
   "end_time": "2021-10-02T11:32:12.771126",
   "environment_variables": {},
   "exception": null,
   "input_path": "__notebook__.ipynb",
   "output_path": "__notebook__.ipynb",
   "parameters": {},
   "start_time": "2021-10-02T11:31:02.883719",
   "version": "2.3.3"
  }
 },
 "nbformat": 4,
 "nbformat_minor": 5
}